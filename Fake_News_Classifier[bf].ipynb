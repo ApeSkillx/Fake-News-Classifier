{
 "cells": [
  {
   "cell_type": "markdown",
   "metadata": {
    "id": "EqeqwGAuDddf"
   },
   "source": [
    "## Importing Libraries"
   ]
  },
  {
   "cell_type": "code",
   "execution_count": 1,
   "metadata": {
    "execution": {
     "iopub.execute_input": "2021-12-02T08:14:34.473854Z",
     "iopub.status.busy": "2021-12-02T08:14:34.47314Z",
     "iopub.status.idle": "2021-12-02T08:14:36.420607Z",
     "shell.execute_reply": "2021-12-02T08:14:36.419692Z",
     "shell.execute_reply.started": "2021-12-02T08:14:34.473799Z"
    },
    "id": "G-vloRVSDddg"
   },
   "outputs": [],
   "source": [
    "import numpy as np\n",
    "import pandas as pd\n",
    "import seaborn as sns\n",
    "import matplotlib.pyplot as plt\n",
    "%matplotlib inline\n",
    "import string\n",
    "import nltk\n",
    "from nltk.corpus import stopwords\n",
    "from nltk.stem.porter import PorterStemmer\n",
    "from nltk import word_tokenize\n",
    "from nltk.tokenize import WhitespaceTokenizer \n",
    "from sklearn.feature_extraction.text import CountVectorizer\n",
    "from sklearn.feature_extraction.text import TfidfTransformer\n",
    "from sklearn.naive_bayes import MultinomialNB\n",
    "from sklearn.pipeline import Pipeline\n",
    "from sklearn.ensemble import RandomForestClassifier\n",
    "from sklearn.linear_model import PassiveAggressiveClassifier\n",
    "from sklearn.model_selection import train_test_split\n",
    "from sklearn.metrics import classification_report,confusion_matrix,accuracy_score"
   ]
  },
  {
   "cell_type": "markdown",
   "metadata": {
    "id": "UlcXNFnYDdds"
   },
   "source": [
    "## Data Cleaning and Feature Engineering"
   ]
  },
  {
   "cell_type": "markdown",
   "metadata": {
    "id": "RE4Seud9Dddi"
   },
   "source": [
    "## Loading Dataset"
   ]
  },
  {
   "cell_type": "code",
   "execution_count": 6,
   "metadata": {
    "execution": {
     "iopub.execute_input": "2021-12-02T08:14:36.423329Z",
     "iopub.status.busy": "2021-12-02T08:14:36.422603Z",
     "iopub.status.idle": "2021-12-02T08:14:36.467303Z",
     "shell.execute_reply": "2021-12-02T08:14:36.466321Z",
     "shell.execute_reply.started": "2021-12-02T08:14:36.423278Z"
    },
    "id": "i4Fe7UUuDddj"
   },
   "outputs": [],
   "source": [
    "df_real=pd.read_csv('C:\\\\Users\\\\Rohan\\\\Downloads\\\\FakeNewsBuzzfeedEDIT\\\\BuzzFeed_real_news_content.csv')"
   ]
  },
  {
   "cell_type": "code",
   "execution_count": 7,
   "metadata": {
    "colab": {
     "base_uri": "https://localhost:8080/"
    },
    "execution": {
     "iopub.execute_input": "2021-12-02T08:14:36.472925Z",
     "iopub.status.busy": "2021-12-02T08:14:36.470998Z",
     "iopub.status.idle": "2021-12-02T08:14:36.48138Z",
     "shell.execute_reply": "2021-12-02T08:14:36.480106Z",
     "shell.execute_reply.started": "2021-12-02T08:14:36.472884Z"
    },
    "id": "xNnMM3jiDddl",
    "outputId": "4a49d61c-565b-4351-c8d5-67dddc58f893"
   },
   "outputs": [
    {
     "data": {
      "text/plain": [
       "(91, 12)"
      ]
     },
     "execution_count": 7,
     "metadata": {},
     "output_type": "execute_result"
    }
   ],
   "source": [
    "df_real.shape"
   ]
  },
  {
   "cell_type": "code",
   "execution_count": 8,
   "metadata": {
    "execution": {
     "iopub.execute_input": "2021-12-02T08:15:05.591505Z",
     "iopub.status.busy": "2021-12-02T08:15:05.591052Z",
     "iopub.status.idle": "2021-12-02T08:15:05.625559Z",
     "shell.execute_reply": "2021-12-02T08:15:05.624442Z",
     "shell.execute_reply.started": "2021-12-02T08:15:05.591465Z"
    },
    "id": "bwFOt0fCDddm"
   },
   "outputs": [],
   "source": [
    "df_fake=pd.read_csv('C:\\\\Users\\\\Rohan\\\\Downloads\\\\FakeNewsBuzzfeedEDIT\\\\BuzzFeed_fake_news_content.csv')"
   ]
  },
  {
   "cell_type": "code",
   "execution_count": 9,
   "metadata": {
    "colab": {
     "base_uri": "https://localhost:8080/"
    },
    "execution": {
     "iopub.execute_input": "2021-12-02T08:15:10.233061Z",
     "iopub.status.busy": "2021-12-02T08:15:10.232635Z",
     "iopub.status.idle": "2021-12-02T08:15:10.239573Z",
     "shell.execute_reply": "2021-12-02T08:15:10.238579Z",
     "shell.execute_reply.started": "2021-12-02T08:15:10.233021Z"
    },
    "id": "ASlb2riiDddn",
    "outputId": "5584b2b5-2caf-4e73-b89b-b39d8bba2522"
   },
   "outputs": [
    {
     "data": {
      "text/plain": [
       "(91, 12)"
      ]
     },
     "execution_count": 9,
     "metadata": {},
     "output_type": "execute_result"
    }
   ],
   "source": [
    "df_fake.shape"
   ]
  },
  {
   "cell_type": "markdown",
   "metadata": {
    "id": "972Xm5tRDddo"
   },
   "source": [
    "First, we need to combine these two dataframes into a single dataframe and create a new variable type which contains the news type as real or fake."
   ]
  },
  {
   "cell_type": "code",
   "execution_count": 10,
   "metadata": {
    "execution": {
     "iopub.execute_input": "2021-12-02T08:15:26.383219Z",
     "iopub.status.busy": "2021-12-02T08:15:26.382588Z",
     "iopub.status.idle": "2021-12-02T08:15:26.391753Z",
     "shell.execute_reply": "2021-12-02T08:15:26.390933Z",
     "shell.execute_reply.started": "2021-12-02T08:15:26.383164Z"
    },
    "id": "az_IdRP8Dddp"
   },
   "outputs": [],
   "source": [
    "df=pd.concat([df_real,df_fake],axis=0)"
   ]
  },
  {
   "cell_type": "code",
   "execution_count": 11,
   "metadata": {
    "colab": {
     "base_uri": "https://localhost:8080/"
    },
    "execution": {
     "iopub.execute_input": "2021-12-02T08:18:17.973137Z",
     "iopub.status.busy": "2021-12-02T08:18:17.972714Z",
     "iopub.status.idle": "2021-12-02T08:18:17.980948Z",
     "shell.execute_reply": "2021-12-02T08:18:17.97974Z",
     "shell.execute_reply.started": "2021-12-02T08:18:17.973099Z"
    },
    "id": "RA6uQTDvDddp",
    "outputId": "b6b4703a-4e04-41fe-fc84-5c3cc9bc20b6"
   },
   "outputs": [
    {
     "data": {
      "text/plain": [
       "(182, 12)"
      ]
     },
     "execution_count": 11,
     "metadata": {},
     "output_type": "execute_result"
    }
   ],
   "source": [
    "df.shape"
   ]
  },
  {
   "cell_type": "code",
   "execution_count": 12,
   "metadata": {
    "execution": {
     "iopub.execute_input": "2021-12-02T08:15:33.486819Z",
     "iopub.status.busy": "2021-12-02T08:15:33.486033Z",
     "iopub.status.idle": "2021-12-02T08:15:33.500392Z",
     "shell.execute_reply": "2021-12-02T08:15:33.499306Z",
     "shell.execute_reply.started": "2021-12-02T08:15:33.486763Z"
    },
    "id": "h2-pmZgeDddq"
   },
   "outputs": [],
   "source": [
    "df['news_type']=df['id'].apply(lambda x: x.split('_')[0])"
   ]
  },
  {
   "cell_type": "code",
   "execution_count": 13,
   "metadata": {
    "colab": {
     "base_uri": "https://localhost:8080/",
     "height": 375
    },
    "execution": {
     "iopub.execute_input": "2021-12-02T08:15:42.051247Z",
     "iopub.status.busy": "2021-12-02T08:15:42.050797Z",
     "iopub.status.idle": "2021-12-02T08:15:42.078425Z",
     "shell.execute_reply": "2021-12-02T08:15:42.077208Z",
     "shell.execute_reply.started": "2021-12-02T08:15:42.051205Z"
    },
    "id": "bTqscbp0Dddq",
    "outputId": "079d41b0-fd2f-41af-a22a-35594be89357"
   },
   "outputs": [
    {
     "data": {
      "text/html": [
       "<div>\n",
       "<style scoped>\n",
       "    .dataframe tbody tr th:only-of-type {\n",
       "        vertical-align: middle;\n",
       "    }\n",
       "\n",
       "    .dataframe tbody tr th {\n",
       "        vertical-align: top;\n",
       "    }\n",
       "\n",
       "    .dataframe thead th {\n",
       "        text-align: right;\n",
       "    }\n",
       "</style>\n",
       "<table border=\"1\" class=\"dataframe\">\n",
       "  <thead>\n",
       "    <tr style=\"text-align: right;\">\n",
       "      <th></th>\n",
       "      <th>id</th>\n",
       "      <th>title</th>\n",
       "      <th>text</th>\n",
       "      <th>url</th>\n",
       "      <th>top_img</th>\n",
       "      <th>authors</th>\n",
       "      <th>source</th>\n",
       "      <th>publish_date</th>\n",
       "      <th>movies</th>\n",
       "      <th>images</th>\n",
       "      <th>canonical_link</th>\n",
       "      <th>meta_data</th>\n",
       "      <th>news_type</th>\n",
       "    </tr>\n",
       "  </thead>\n",
       "  <tbody>\n",
       "    <tr>\n",
       "      <th>0</th>\n",
       "      <td>Real_1-Webpage</td>\n",
       "      <td>Another Terrorist Attack in NYC…Why Are we STI...</td>\n",
       "      <td>On Saturday, September 17 at 8:30 pm EST, an e...</td>\n",
       "      <td>http://eaglerising.com/36942/another-terrorist...</td>\n",
       "      <td>http://eaglerising.com/wp-content/uploads/2016...</td>\n",
       "      <td>View All Posts,Leonora Cravotta</td>\n",
       "      <td>http://eaglerising.com</td>\n",
       "      <td>{'$date': 1474528230000}</td>\n",
       "      <td>NaN</td>\n",
       "      <td>http://constitution.com/wp-content/uploads/201...</td>\n",
       "      <td>http://eaglerising.com/36942/another-terrorist...</td>\n",
       "      <td>{\"description\": \"\\u201cWe believe at this poin...</td>\n",
       "      <td>Real</td>\n",
       "    </tr>\n",
       "    <tr>\n",
       "      <th>1</th>\n",
       "      <td>Real_10-Webpage</td>\n",
       "      <td>Donald Trump: Drugs a 'Very, Very Big Factor' ...</td>\n",
       "      <td>Less than a day after protests over the police...</td>\n",
       "      <td>http://abcn.ws/2d4lNn9</td>\n",
       "      <td>http://a.abcnews.com/images/Politics/AP_donald...</td>\n",
       "      <td>More Candace,Adam Kelsey,Abc News,More Adam</td>\n",
       "      <td>http://abcn.ws</td>\n",
       "      <td>NaN</td>\n",
       "      <td>NaN</td>\n",
       "      <td>http://www.googleadservices.com/pagead/convers...</td>\n",
       "      <td>http://abcnews.go.com/Politics/donald-trump-dr...</td>\n",
       "      <td>{\"fb_title\": \"Trump: Drugs a 'Very, Very Big F...</td>\n",
       "      <td>Real</td>\n",
       "    </tr>\n",
       "  </tbody>\n",
       "</table>\n",
       "</div>"
      ],
      "text/plain": [
       "                id                                              title  \\\n",
       "0   Real_1-Webpage  Another Terrorist Attack in NYC…Why Are we STI...   \n",
       "1  Real_10-Webpage  Donald Trump: Drugs a 'Very, Very Big Factor' ...   \n",
       "\n",
       "                                                text  \\\n",
       "0  On Saturday, September 17 at 8:30 pm EST, an e...   \n",
       "1  Less than a day after protests over the police...   \n",
       "\n",
       "                                                 url  \\\n",
       "0  http://eaglerising.com/36942/another-terrorist...   \n",
       "1                             http://abcn.ws/2d4lNn9   \n",
       "\n",
       "                                             top_img  \\\n",
       "0  http://eaglerising.com/wp-content/uploads/2016...   \n",
       "1  http://a.abcnews.com/images/Politics/AP_donald...   \n",
       "\n",
       "                                       authors                  source  \\\n",
       "0              View All Posts,Leonora Cravotta  http://eaglerising.com   \n",
       "1  More Candace,Adam Kelsey,Abc News,More Adam          http://abcn.ws   \n",
       "\n",
       "               publish_date movies  \\\n",
       "0  {'$date': 1474528230000}    NaN   \n",
       "1                       NaN    NaN   \n",
       "\n",
       "                                              images  \\\n",
       "0  http://constitution.com/wp-content/uploads/201...   \n",
       "1  http://www.googleadservices.com/pagead/convers...   \n",
       "\n",
       "                                      canonical_link  \\\n",
       "0  http://eaglerising.com/36942/another-terrorist...   \n",
       "1  http://abcnews.go.com/Politics/donald-trump-dr...   \n",
       "\n",
       "                                           meta_data news_type  \n",
       "0  {\"description\": \"\\u201cWe believe at this poin...      Real  \n",
       "1  {\"fb_title\": \"Trump: Drugs a 'Very, Very Big F...      Real  "
      ]
     },
     "execution_count": 13,
     "metadata": {},
     "output_type": "execute_result"
    }
   ],
   "source": [
    "df.head(2)"
   ]
  },
  {
   "cell_type": "code",
   "execution_count": 14,
   "metadata": {
    "colab": {
     "base_uri": "https://localhost:8080/"
    },
    "execution": {
     "iopub.execute_input": "2021-12-02T08:18:00.58921Z",
     "iopub.status.busy": "2021-12-02T08:18:00.588792Z",
     "iopub.status.idle": "2021-12-02T08:18:00.595863Z",
     "shell.execute_reply": "2021-12-02T08:18:00.594792Z",
     "shell.execute_reply.started": "2021-12-02T08:18:00.589177Z"
    },
    "id": "xA3jAndADddr",
    "outputId": "f2bf6890-fd92-4a7c-954a-0c8e8846eefc"
   },
   "outputs": [
    {
     "data": {
      "text/plain": [
       "(182, 13)"
      ]
     },
     "execution_count": 14,
     "metadata": {},
     "output_type": "execute_result"
    }
   ],
   "source": [
    "df.shape"
   ]
  },
  {
   "cell_type": "code",
   "execution_count": 15,
   "metadata": {
    "colab": {
     "base_uri": "https://localhost:8080/"
    },
    "execution": {
     "iopub.execute_input": "2021-12-02T08:18:58.993103Z",
     "iopub.status.busy": "2021-12-02T08:18:58.992662Z",
     "iopub.status.idle": "2021-12-02T08:18:59.012616Z",
     "shell.execute_reply": "2021-12-02T08:18:59.011481Z",
     "shell.execute_reply.started": "2021-12-02T08:18:58.99306Z"
    },
    "id": "DeJmnsYkDddr",
    "outputId": "0b4e3bbd-3b10-42a6-bace-febdc0416a92"
   },
   "outputs": [
    {
     "name": "stdout",
     "output_type": "stream",
     "text": [
      "<class 'pandas.core.frame.DataFrame'>\n",
      "Int64Index: 182 entries, 0 to 90\n",
      "Data columns (total 13 columns):\n",
      " #   Column          Non-Null Count  Dtype \n",
      "---  ------          --------------  ----- \n",
      " 0   id              182 non-null    object\n",
      " 1   title           182 non-null    object\n",
      " 2   text            182 non-null    object\n",
      " 3   url             174 non-null    object\n",
      " 4   top_img         172 non-null    object\n",
      " 5   authors         141 non-null    object\n",
      " 6   source          174 non-null    object\n",
      " 7   publish_date    133 non-null    object\n",
      " 8   movies          25 non-null     object\n",
      " 9   images          172 non-null    object\n",
      " 10  canonical_link  170 non-null    object\n",
      " 11  meta_data       182 non-null    object\n",
      " 12  news_type       182 non-null    object\n",
      "dtypes: object(13)\n",
      "memory usage: 19.9+ KB\n"
     ]
    }
   ],
   "source": [
    "df.info()"
   ]
  },
  {
   "cell_type": "code",
   "execution_count": 16,
   "metadata": {
    "colab": {
     "base_uri": "https://localhost:8080/",
     "height": 282
    },
    "execution": {
     "iopub.execute_input": "2021-12-02T08:19:09.121355Z",
     "iopub.status.busy": "2021-12-02T08:19:09.120693Z",
     "iopub.status.idle": "2021-12-02T08:19:09.186161Z",
     "shell.execute_reply": "2021-12-02T08:19:09.185126Z",
     "shell.execute_reply.started": "2021-12-02T08:19:09.121304Z"
    },
    "id": "7Apx-LeJDdds",
    "outputId": "082e952d-671c-4cba-af4b-3b7bc8e0d977"
   },
   "outputs": [
    {
     "data": {
      "text/html": [
       "<div>\n",
       "<style scoped>\n",
       "    .dataframe tbody tr th:only-of-type {\n",
       "        vertical-align: middle;\n",
       "    }\n",
       "\n",
       "    .dataframe tbody tr th {\n",
       "        vertical-align: top;\n",
       "    }\n",
       "\n",
       "    .dataframe thead th {\n",
       "        text-align: right;\n",
       "    }\n",
       "</style>\n",
       "<table border=\"1\" class=\"dataframe\">\n",
       "  <thead>\n",
       "    <tr style=\"text-align: right;\">\n",
       "      <th></th>\n",
       "      <th>id</th>\n",
       "      <th>title</th>\n",
       "      <th>text</th>\n",
       "      <th>url</th>\n",
       "      <th>top_img</th>\n",
       "      <th>authors</th>\n",
       "      <th>source</th>\n",
       "      <th>publish_date</th>\n",
       "      <th>movies</th>\n",
       "      <th>images</th>\n",
       "      <th>canonical_link</th>\n",
       "      <th>meta_data</th>\n",
       "      <th>news_type</th>\n",
       "    </tr>\n",
       "  </thead>\n",
       "  <tbody>\n",
       "    <tr>\n",
       "      <th>count</th>\n",
       "      <td>182</td>\n",
       "      <td>182</td>\n",
       "      <td>182</td>\n",
       "      <td>174</td>\n",
       "      <td>172</td>\n",
       "      <td>141</td>\n",
       "      <td>174</td>\n",
       "      <td>133</td>\n",
       "      <td>25</td>\n",
       "      <td>172</td>\n",
       "      <td>170</td>\n",
       "      <td>182</td>\n",
       "      <td>182</td>\n",
       "    </tr>\n",
       "    <tr>\n",
       "      <th>unique</th>\n",
       "      <td>182</td>\n",
       "      <td>178</td>\n",
       "      <td>178</td>\n",
       "      <td>171</td>\n",
       "      <td>166</td>\n",
       "      <td>90</td>\n",
       "      <td>28</td>\n",
       "      <td>118</td>\n",
       "      <td>25</td>\n",
       "      <td>169</td>\n",
       "      <td>168</td>\n",
       "      <td>171</td>\n",
       "      <td>2</td>\n",
       "    </tr>\n",
       "    <tr>\n",
       "      <th>top</th>\n",
       "      <td>Real_85-Webpage</td>\n",
       "      <td>A Hillary Clinton Administration May be Entire...</td>\n",
       "      <td>Website is Down For Maintenance</td>\n",
       "      <td>http://www.proudcons.com/clinton-foundation-ca...</td>\n",
       "      <td>http://static.politico.com/da/f5/44342c424c68b...</td>\n",
       "      <td>Terresa Monroe-hamilton</td>\n",
       "      <td>http://politi.co</td>\n",
       "      <td>{'$date': 1474588800000}</td>\n",
       "      <td>https://www.youtube.com/embed/ThwaDSaoGU8?feat...</td>\n",
       "      <td>http://constitution.com/wp-content/uploads/201...</td>\n",
       "      <td>http://eaglerising.com/36880/a-hillary-clinton...</td>\n",
       "      <td>{}</td>\n",
       "      <td>Fake</td>\n",
       "    </tr>\n",
       "    <tr>\n",
       "      <th>freq</th>\n",
       "      <td>1</td>\n",
       "      <td>2</td>\n",
       "      <td>2</td>\n",
       "      <td>2</td>\n",
       "      <td>3</td>\n",
       "      <td>8</td>\n",
       "      <td>32</td>\n",
       "      <td>5</td>\n",
       "      <td>1</td>\n",
       "      <td>2</td>\n",
       "      <td>2</td>\n",
       "      <td>8</td>\n",
       "      <td>91</td>\n",
       "    </tr>\n",
       "  </tbody>\n",
       "</table>\n",
       "</div>"
      ],
      "text/plain": [
       "                     id                                              title  \\\n",
       "count               182                                                182   \n",
       "unique              182                                                178   \n",
       "top     Real_85-Webpage  A Hillary Clinton Administration May be Entire...   \n",
       "freq                  1                                                  2   \n",
       "\n",
       "                                   text  \\\n",
       "count                               182   \n",
       "unique                              178   \n",
       "top     Website is Down For Maintenance   \n",
       "freq                                  2   \n",
       "\n",
       "                                                      url  \\\n",
       "count                                                 174   \n",
       "unique                                                171   \n",
       "top     http://www.proudcons.com/clinton-foundation-ca...   \n",
       "freq                                                    2   \n",
       "\n",
       "                                                  top_img  \\\n",
       "count                                                 172   \n",
       "unique                                                166   \n",
       "top     http://static.politico.com/da/f5/44342c424c68b...   \n",
       "freq                                                    3   \n",
       "\n",
       "                        authors            source              publish_date  \\\n",
       "count                       141               174                       133   \n",
       "unique                       90                28                       118   \n",
       "top     Terresa Monroe-hamilton  http://politi.co  {'$date': 1474588800000}   \n",
       "freq                          8                32                         5   \n",
       "\n",
       "                                                   movies  \\\n",
       "count                                                  25   \n",
       "unique                                                 25   \n",
       "top     https://www.youtube.com/embed/ThwaDSaoGU8?feat...   \n",
       "freq                                                    1   \n",
       "\n",
       "                                                   images  \\\n",
       "count                                                 172   \n",
       "unique                                                169   \n",
       "top     http://constitution.com/wp-content/uploads/201...   \n",
       "freq                                                    2   \n",
       "\n",
       "                                           canonical_link meta_data news_type  \n",
       "count                                                 170       182       182  \n",
       "unique                                                168       171         2  \n",
       "top     http://eaglerising.com/36880/a-hillary-clinton...        {}      Fake  \n",
       "freq                                                    2         8        91  "
      ]
     },
     "execution_count": 16,
     "metadata": {},
     "output_type": "execute_result"
    }
   ],
   "source": [
    "df.describe()"
   ]
  },
  {
   "cell_type": "markdown",
   "metadata": {
    "id": "mfeLFXkCDdds"
   },
   "source": [
    "We select variables of our interest only for analysis, including title, text, source, movies, images and news_type, and remove other columns."
   ]
  },
  {
   "cell_type": "code",
   "execution_count": 17,
   "metadata": {
    "id": "aFDWi2kvDddt"
   },
   "outputs": [],
   "source": [
    "df.drop(['id','url', 'top_img','authors','publish_date','canonical_link','meta_data'],axis=1, inplace=True)"
   ]
  },
  {
   "cell_type": "markdown",
   "metadata": {
    "id": "UwHTFTUKDddt"
   },
   "source": [
    "We will create a Series that displays the total count of missing values per column."
   ]
  },
  {
   "cell_type": "code",
   "execution_count": 18,
   "metadata": {
    "colab": {
     "base_uri": "https://localhost:8080/"
    },
    "id": "8eJ3KXVRDddt",
    "outputId": "460c8b5f-ba1e-4d6c-ecbb-ddae620acd10"
   },
   "outputs": [
    {
     "data": {
      "text/plain": [
       "title          0\n",
       "text           0\n",
       "source         8\n",
       "movies       157\n",
       "images        10\n",
       "news_type      0\n",
       "dtype: int64"
      ]
     },
     "execution_count": 18,
     "metadata": {},
     "output_type": "execute_result"
    }
   ],
   "source": [
    "df.isnull().sum()"
   ]
  },
  {
   "cell_type": "markdown",
   "metadata": {
    "id": "us0wEwPjDddt"
   },
   "source": [
    "We will convert this Series to be in term of percentage of the total DataFrame."
   ]
  },
  {
   "cell_type": "code",
   "execution_count": 19,
   "metadata": {
    "colab": {
     "base_uri": "https://localhost:8080/"
    },
    "id": "B-RVXyMjDddu",
    "outputId": "c7c5858e-286f-4935-881d-774336dca3bb"
   },
   "outputs": [
    {
     "data": {
      "text/plain": [
       "title         0.000000\n",
       "text          0.000000\n",
       "source        4.395604\n",
       "movies       86.263736\n",
       "images        5.494505\n",
       "news_type     0.000000\n",
       "dtype: float64"
      ]
     },
     "execution_count": 19,
     "metadata": {},
     "output_type": "execute_result"
    }
   ],
   "source": [
    "(df.isnull().sum())/(df.shape[0])*100"
   ]
  },
  {
   "cell_type": "markdown",
   "metadata": {
    "id": "-T0sLTKUDddu"
   },
   "source": [
    "The datset does not contain null values in text and news_type columns which are the most important columns for us. We leave the null values in the source column as is. However, we add a new columns to the data frame which show whether the news are accompanied by movies and/or images or not."
   ]
  },
  {
   "cell_type": "code",
   "execution_count": 20,
   "metadata": {
    "id": "wZcLpuM9Dddv"
   },
   "outputs": [],
   "source": [
    "df['contain_movies']=df['movies'].apply(lambda x: 0 if str(x)=='nan' else 1)"
   ]
  },
  {
   "cell_type": "code",
   "execution_count": 21,
   "metadata": {
    "id": "Z0b8lsTDDddv"
   },
   "outputs": [],
   "source": [
    "df['contain_images']=df['images'].apply(lambda x: 0 if str(x)=='nan' else 1)"
   ]
  },
  {
   "cell_type": "code",
   "execution_count": 22,
   "metadata": {
    "id": "1XlT8kadDddv"
   },
   "outputs": [],
   "source": [
    "df.drop(['movies','images'],axis=1,inplace=True)"
   ]
  },
  {
   "cell_type": "code",
   "execution_count": 23,
   "metadata": {
    "colab": {
     "base_uri": "https://localhost:8080/",
     "height": 112
    },
    "id": "7s20W_QXDddw",
    "outputId": "14f3ba08-aa4e-4773-b7ea-9f9cce2664fb"
   },
   "outputs": [
    {
     "data": {
      "text/html": [
       "<div>\n",
       "<style scoped>\n",
       "    .dataframe tbody tr th:only-of-type {\n",
       "        vertical-align: middle;\n",
       "    }\n",
       "\n",
       "    .dataframe tbody tr th {\n",
       "        vertical-align: top;\n",
       "    }\n",
       "\n",
       "    .dataframe thead th {\n",
       "        text-align: right;\n",
       "    }\n",
       "</style>\n",
       "<table border=\"1\" class=\"dataframe\">\n",
       "  <thead>\n",
       "    <tr style=\"text-align: right;\">\n",
       "      <th></th>\n",
       "      <th>title</th>\n",
       "      <th>text</th>\n",
       "      <th>source</th>\n",
       "      <th>news_type</th>\n",
       "      <th>contain_movies</th>\n",
       "      <th>contain_images</th>\n",
       "    </tr>\n",
       "  </thead>\n",
       "  <tbody>\n",
       "    <tr>\n",
       "      <th>0</th>\n",
       "      <td>Another Terrorist Attack in NYC…Why Are we STI...</td>\n",
       "      <td>On Saturday, September 17 at 8:30 pm EST, an e...</td>\n",
       "      <td>http://eaglerising.com</td>\n",
       "      <td>Real</td>\n",
       "      <td>0</td>\n",
       "      <td>1</td>\n",
       "    </tr>\n",
       "    <tr>\n",
       "      <th>1</th>\n",
       "      <td>Donald Trump: Drugs a 'Very, Very Big Factor' ...</td>\n",
       "      <td>Less than a day after protests over the police...</td>\n",
       "      <td>http://abcn.ws</td>\n",
       "      <td>Real</td>\n",
       "      <td>0</td>\n",
       "      <td>1</td>\n",
       "    </tr>\n",
       "  </tbody>\n",
       "</table>\n",
       "</div>"
      ],
      "text/plain": [
       "                                               title  \\\n",
       "0  Another Terrorist Attack in NYC…Why Are we STI...   \n",
       "1  Donald Trump: Drugs a 'Very, Very Big Factor' ...   \n",
       "\n",
       "                                                text                  source  \\\n",
       "0  On Saturday, September 17 at 8:30 pm EST, an e...  http://eaglerising.com   \n",
       "1  Less than a day after protests over the police...          http://abcn.ws   \n",
       "\n",
       "  news_type  contain_movies  contain_images  \n",
       "0      Real               0               1  \n",
       "1      Real               0               1  "
      ]
     },
     "execution_count": 23,
     "metadata": {},
     "output_type": "execute_result"
    }
   ],
   "source": [
    "df.head(2)"
   ]
  },
  {
   "cell_type": "markdown",
   "metadata": {
    "id": "QojMQAwvDdeO"
   },
   "source": [
    "## Fake/Real News Classification"
   ]
  },
  {
   "cell_type": "markdown",
   "metadata": {
    "id": "O6oINUBADdfb"
   },
   "source": [
    "## Conclusion"
   ]
  },
  {
   "cell_type": "markdown",
   "metadata": {
    "id": "bxC6eStvDddw"
   },
   "source": [
    "## EDA"
   ]
  },
  {
   "cell_type": "markdown",
   "metadata": {
    "id": "6I3O9RdHDddw"
   },
   "source": [
    "### Real Versus Fake News Source Analysis"
   ]
  },
  {
   "cell_type": "markdown",
   "metadata": {
    "id": "VERdwP3jDddw"
   },
   "source": [
    "#### Sources of Publising Real News"
   ]
  },
  {
   "cell_type": "code",
   "execution_count": 24,
   "metadata": {
    "id": "klt1mMZvDddx"
   },
   "outputs": [],
   "source": [
    "real_order=df[df['news_type']=='Real']['source'].value_counts().sort_values(ascending=False).index"
   ]
  },
  {
   "cell_type": "code",
   "execution_count": 25,
   "metadata": {
    "colab": {
     "base_uri": "https://localhost:8080/"
    },
    "id": "vljFfBHKDddx",
    "outputId": "6734f3e2-66a3-4242-ea03-61c7a28bd53e"
   },
   "outputs": [
    {
     "data": {
      "image/png": "[encoded data removed]",
      "text/plain": [
       "<Figure size 720x432 with 1 Axes>"
      ]
     },
     "metadata": {
      "needs_background": "light"
     },
     "output_type": "display_data"
    }
   ],
   "source": [
    "plt.figure(figsize=(10,6))\n",
    "sns.countplot(y='source', data=df[df['news_type']=='Real'],order=real_order,palette='summer')\n",
    "plt.xlabel('Count',fontsize=12)\n",
    "plt.ylabel('Source',fontsize=12)\n",
    "plt.title('Sources of Real News',fontsize=15)\n",
    "plt.show()"
   ]
  },
  {
   "cell_type": "markdown",
   "metadata": {
    "id": "gDDXStTODddx"
   },
   "source": [
    "From the above plot we observe that the politi.co reports maximum real news followed by cnn.it with a count of 32 and 23, respectively."
   ]
  },
  {
   "cell_type": "markdown",
   "metadata": {
    "id": "jPYWOwddDddy"
   },
   "source": [
    "#### Sources of Publishing Maximum Fake News"
   ]
  },
  {
   "cell_type": "code",
   "execution_count": 26,
   "metadata": {
    "id": "3FNQ3T0pDddy"
   },
   "outputs": [],
   "source": [
    "fake_order=df[df['news_type']=='Fake']['source'].value_counts().sort_values(ascending=False).index"
   ]
  },
  {
   "cell_type": "code",
   "execution_count": 27,
   "metadata": {
    "colab": {
     "base_uri": "https://localhost:8080/"
    },
    "id": "Rpx_bbXlDddy",
    "outputId": "944978ac-7259-4fd7-db5c-42c073fa8e6f"
   },
   "outputs": [
    {
     "data": {
      "image/png": "[encoded data removed]",
      "text/plain": [
       "<Figure size 720x432 with 1 Axes>"
      ]
     },
     "metadata": {
      "needs_background": "light"
     },
     "output_type": "display_data"
    }
   ],
   "source": [
    "plt.figure(figsize=(10,6))\n",
    "sns.countplot(y='source',data=df[df['news_type']=='Fake'],order=fake_order,palette='autumn')\n",
    "plt.xlabel('Count',fontsize=12)\n",
    "plt.ylabel('Source',fontsize=12)\n",
    "plt.title('Sources of Fake News',fontsize=20)\n",
    "plt.show()"
   ]
  },
  {
   "cell_type": "markdown",
   "metadata": {
    "id": "TbawFOJODddz"
   },
   "source": [
    "Above plot shows that the rightwingsnews reports maximum fakenews with a count of 17. Also, the number of fake news sources are more than the number of real news sources."
   ]
  },
  {
   "cell_type": "markdown",
   "metadata": {
    "id": "lHdFIQvQDddz"
   },
   "source": [
    "#### Common Sources of Publishing Both Real and Fake News"
   ]
  },
  {
   "cell_type": "code",
   "execution_count": 28,
   "metadata": {
    "colab": {
     "base_uri": "https://localhost:8080/"
    },
    "id": "UvGHfwIFDddz",
    "outputId": "e06f134c-a139-4db9-b5bb-2af15979b1bc"
   },
   "outputs": [
    {
     "name": "stdout",
     "output_type": "stream",
     "text": [
      "['http://www.addictinginfo.org', 'http://eaglerising.com', 'http://conservativebyte.com', 'http://winningdemocrats.com', 'http://freedomdaily.com', 'http://occupydemocrats.com', 'http://rightwingnews.com', 'http://addictinginfo.org']\n"
     ]
    }
   ],
   "source": [
    "new=[]\n",
    "for x in df[df['news_type']=='Fake']['source'].unique():\n",
    "    if x in df[df['news_type']=='Real']['source'].unique():\n",
    "        new.append(x)\n",
    "print(new)"
   ]
  },
  {
   "cell_type": "code",
   "execution_count": 29,
   "metadata": {
    "id": "u3k3EexgDddz"
   },
   "outputs": [],
   "source": [
    "df['common']=df['source'].apply(lambda x: x if x in new else 0)"
   ]
  },
  {
   "cell_type": "code",
   "execution_count": 30,
   "metadata": {
    "id": "vZf9XEOJDddz"
   },
   "outputs": [],
   "source": [
    "df1=df[df['common']!=0]"
   ]
  },
  {
   "cell_type": "code",
   "execution_count": 31,
   "metadata": {
    "colab": {
     "base_uri": "https://localhost:8080/"
    },
    "id": "UctN9M-bDdd0",
    "outputId": "bcf96944-97c3-4fa5-d914-40cb6591a2cd"
   },
   "outputs": [
    {
     "data": {
      "image/png": "[encoded data removed]",
      "text/plain": [
       "<Figure size 720x432 with 1 Axes>"
      ]
     },
     "metadata": {
      "needs_background": "light"
     },
     "output_type": "display_data"
    }
   ],
   "source": [
    "plt.figure(figsize=(10,6))\n",
    "sns.countplot(y='common',data=df1,hue='news_type',palette='viridis')\n",
    "plt.xlabel('Count',fontsize=12)\n",
    "plt.ylabel('Source',fontsize=12)\n",
    "plt.legend(loc='best', title='News Type',fontsize=10)\n",
    "plt.title('Common Sources of Real and Fake News',fontsize=20)\n",
    "plt.show()"
   ]
  },
  {
   "cell_type": "markdown",
   "metadata": {
    "id": "akE1tIN_Ddd0"
   },
   "source": [
    "There are 7 common sources of real and fake news. This is interesting that the fake news are more reported by these sources as compared to real news. The rightwingnews reports maximum fake news but it also reports some real news. Approximaltely, two third of total news reported by rightwings are fake. On the other hand, the freedomdaily which is the second largest fake news reporting source, barely reports the real news. addictinginfo.org is the only single common source which reports real news more than fake news but the total number of the news it reports is very low."
   ]
  },
  {
   "cell_type": "markdown",
   "metadata": {
    "id": "BLRsZ9UwDdd0"
   },
   "source": [
    "#### Sources Including Movies in the News "
   ]
  },
  {
   "cell_type": "code",
   "execution_count": 32,
   "metadata": {
    "colab": {
     "base_uri": "https://localhost:8080/"
    },
    "id": "jZKueQAPDdd0",
    "outputId": "e29771e6-fd6c-4f34-df4c-165786409727"
   },
   "outputs": [
    {
     "data": {
      "text/html": [
       "<div>\n",
       "<style scoped>\n",
       "    .dataframe tbody tr th:only-of-type {\n",
       "        vertical-align: middle;\n",
       "    }\n",
       "\n",
       "    .dataframe tbody tr th {\n",
       "        vertical-align: top;\n",
       "    }\n",
       "\n",
       "    .dataframe thead th {\n",
       "        text-align: right;\n",
       "    }\n",
       "</style>\n",
       "<table border=\"1\" class=\"dataframe\">\n",
       "  <thead>\n",
       "    <tr style=\"text-align: right;\">\n",
       "      <th></th>\n",
       "      <th>title</th>\n",
       "      <th>text</th>\n",
       "      <th>source</th>\n",
       "      <th>news_type</th>\n",
       "      <th>contain_movies</th>\n",
       "      <th>contain_images</th>\n",
       "      <th>common</th>\n",
       "    </tr>\n",
       "  </thead>\n",
       "  <tbody>\n",
       "    <tr>\n",
       "      <th>0</th>\n",
       "      <td>Another Terrorist Attack in NYC…Why Are we STI...</td>\n",
       "      <td>On Saturday, September 17 at 8:30 pm EST, an e...</td>\n",
       "      <td>http://eaglerising.com</td>\n",
       "      <td>Real</td>\n",
       "      <td>0</td>\n",
       "      <td>1</td>\n",
       "      <td>http://eaglerising.com</td>\n",
       "    </tr>\n",
       "    <tr>\n",
       "      <th>1</th>\n",
       "      <td>Donald Trump: Drugs a 'Very, Very Big Factor' ...</td>\n",
       "      <td>Less than a day after protests over the police...</td>\n",
       "      <td>http://abcn.ws</td>\n",
       "      <td>Real</td>\n",
       "      <td>0</td>\n",
       "      <td>1</td>\n",
       "      <td>0</td>\n",
       "    </tr>\n",
       "  </tbody>\n",
       "</table>\n",
       "</div>"
      ],
      "text/plain": [
       "                                               title  \\\n",
       "0  Another Terrorist Attack in NYC…Why Are we STI...   \n",
       "1  Donald Trump: Drugs a 'Very, Very Big Factor' ...   \n",
       "\n",
       "                                                text                  source  \\\n",
       "0  On Saturday, September 17 at 8:30 pm EST, an e...  http://eaglerising.com   \n",
       "1  Less than a day after protests over the police...          http://abcn.ws   \n",
       "\n",
       "  news_type  contain_movies  contain_images                  common  \n",
       "0      Real               0               1  http://eaglerising.com  \n",
       "1      Real               0               1                       0  "
      ]
     },
     "execution_count": 32,
     "metadata": {},
     "output_type": "execute_result"
    }
   ],
   "source": [
    "df.head(2)"
   ]
  },
  {
   "cell_type": "code",
   "execution_count": 33,
   "metadata": {
    "colab": {
     "base_uri": "https://localhost:8080/"
    },
    "id": "cqWN4ZMRDdd0",
    "outputId": "f1996a10-d452-4e8e-e1cb-5d64b48f8ed5"
   },
   "outputs": [
    {
     "data": {
      "image/png": "[encoded data removed]",
      "text/plain": [
       "<Figure size 720x432 with 1 Axes>"
      ]
     },
     "metadata": {
      "needs_background": "light"
     },
     "output_type": "display_data"
    }
   ],
   "source": [
    "plt.figure(figsize=(10,6))\n",
    "sns.countplot(x='contain_movies', data=df, hue='news_type', palette='PuBuGn_r')\n",
    "plt.xlabel('Movies Linked to News',fontsize=12)\n",
    "plt.ylabel('Count',fontsize=12)\n",
    "plt.legend(loc='best', title='News Type',fontsize=10)\n",
    "plt.title('Number of Different News Type Versus Linked Movies',fontsize=18)\n",
    "plt.show()"
   ]
  },
  {
   "cell_type": "markdown",
   "metadata": {
    "id": "S6n7FbMJDdd1"
   },
   "source": [
    "From the above plot, we observe that most of the news are reported without including the movie clips, and there are very little articles which includes movie clips. This variable does not provide much useful information in our analysis."
   ]
  },
  {
   "cell_type": "markdown",
   "metadata": {
    "id": "D3NOdiSiDdd1"
   },
   "source": [
    "#### Sources Including Images in the News "
   ]
  },
  {
   "cell_type": "code",
   "execution_count": 34,
   "metadata": {
    "colab": {
     "base_uri": "https://localhost:8080/"
    },
    "id": "uXDNxlxHDdd1",
    "outputId": "46a48350-5995-457d-f909-ed85007531b8"
   },
   "outputs": [
    {
     "data": {
      "image/png": "[encoded data removed]",
      "text/plain": [
       "<Figure size 720x432 with 1 Axes>"
      ]
     },
     "metadata": {
      "needs_background": "light"
     },
     "output_type": "display_data"
    }
   ],
   "source": [
    "plt.figure(figsize=(10,6))\n",
    "sns.countplot(x='contain_images', data=df, hue='news_type', palette='PuBuGn_r')\n",
    "plt.xlabel('Images Linked to News',fontsize=12)\n",
    "plt.ylabel('Count',fontsize=12)\n",
    "plt.legend(loc='upper left', title='News Type',fontsize=10)\n",
    "plt.title('Number of Different News Type Versus Linked Images',fontsize=18)\n",
    "plt.show()"
   ]
  },
  {
   "cell_type": "markdown",
   "metadata": {
    "id": "vHKTb4RhDdd1"
   },
   "source": [
    "From the above plot we observe that all the real news sources included images in their articles. We may say that images acts as a proof of thier news. Therefore, this variable reveal that images are an important part of real news articles. The images and movies variables do not give us much details to strenghen our analysis."
   ]
  },
  {
   "cell_type": "markdown",
   "metadata": {
    "id": "ew2GGUW6Ddd2"
   },
   "source": [
    "### Analysis of Title and Body of News Articles"
   ]
  },
  {
   "cell_type": "markdown",
   "metadata": {
    "id": "RsT6sNYeDdd2"
   },
   "source": [
    "#### Preprocessing Function"
   ]
  },
  {
   "cell_type": "markdown",
   "metadata": {
    "id": "W5KIWrBiDdd2"
   },
   "source": [
    "We define a preprocessing function that performs the following operations:\n",
    "\n",
    "- Converting text to lower case\n",
    "\n",
    "- Removing numbers from the text corpus\n",
    "\n",
    "- Removing punctuation from the text corpus\n",
    "\n",
    "- Removing special characters such as ‘<’, ‘…’ from the text corpus\n",
    "\n",
    "- Removing english stopwords\n",
    "\n",
    "- Stemming words to root words\n",
    "\n",
    "- Removing extra whitespaces from the text corpus"
   ]
  },
  {
   "cell_type": "code",
   "execution_count": 35,
   "metadata": {
    "id": "qtNdwcf5Ddd2"
   },
   "outputs": [],
   "source": [
    "ps=PorterStemmer()\n",
    "wst= WhitespaceTokenizer() \n",
    "\n",
    "##### 1. Converting text to lower case\n",
    "def lower_func (x):\n",
    "    return x.lower()\n",
    "\n",
    "\n",
    "##### 2. Removing Numbers from the text corpus\n",
    "def remove_number_func (x): \n",
    "    new=\"\"\n",
    "    for a in x:\n",
    "        if a.isdigit()==False:\n",
    "            new=new+a\n",
    "    return new\n",
    "\n",
    "\n",
    "##### 3. Removing punctuation \n",
    "def remove_punc_func(x):\n",
    "    new=''\n",
    "    for a in x:\n",
    "        if a not in string.punctuation:\n",
    "            new=new+a\n",
    "    return new\n",
    "\n",
    "##### 4. Removing special characters\n",
    "def remove_spec_char_func(x):\n",
    "    new=''\n",
    "    for a in x:\n",
    "        if (a.isalnum()==True) or (a==' '):\n",
    "            new=new+a\n",
    "    return(new)\n",
    "\n",
    "##### 5. Removing english stopwords\n",
    "def remove_stopwords(x):\n",
    "    new=[]\n",
    "    for a in x.split():\n",
    "        if a not in stopwords.words('english'):\n",
    "            new.append(a)\n",
    "    return \" \".join(new)\n",
    "\n",
    "##### 6. Stemming words to root words\n",
    "def stem_func(x):\n",
    "    wordlist = word_tokenize(x)\n",
    "    psstem = [ps.stem(a) for a in wordlist]\n",
    "    return ' '.join(psstem)\n",
    "\n",
    "##### 7. Removing extra whitespaces \n",
    "def remove_whitespace_func(x):\n",
    "    return(wst.tokenize(x))\n",
    "\n",
    "def compose(f, g):\n",
    "    return lambda x: f(g(x))\n",
    "\n",
    "final=compose(compose(compose(compose(compose(compose(remove_whitespace_func,stem_func),remove_stopwords),remove_spec_char_func),remove_punc_func),remove_number_func),lower_func)"
   ]
  },
  {
   "cell_type": "markdown",
   "metadata": {
    "id": "yPSyO2v9Ddd3"
   },
   "source": [
    "#### Analysis of News Title "
   ]
  },
  {
   "cell_type": "markdown",
   "metadata": {
    "id": "TA1zZfInDdd3"
   },
   "source": [
    "We use 'final' function to process the title of news articles, then select the top 20 most frequent words in the news title for both categories i.e., real news and fake news. We plot the term frequency of these words in both categories."
   ]
  },
  {
   "cell_type": "markdown",
   "metadata": {
    "id": "Fi5GQGnGDdd3"
   },
   "source": [
    "##### Fake News"
   ]
  },
  {
   "cell_type": "code",
   "execution_count": 36,
   "metadata": {
    "colab": {
     "base_uri": "https://localhost:8080/"
    },
    "id": "5orkzV0nDdd3",
    "outputId": "19f5843a-4b64-493c-86ce-b3080975466c"
   },
   "outputs": [
    {
     "name": "stderr",
     "output_type": "stream",
     "text": [
      "[nltk_data] Downloading package punkt to\n",
      "[nltk_data]     C:\\Users\\Rohan\\AppData\\Roaming\\nltk_data...\n",
      "[nltk_data]   Package punkt is already up-to-date!\n"
     ]
    },
    {
     "data": {
      "text/plain": [
       "True"
      ]
     },
     "execution_count": 36,
     "metadata": {},
     "output_type": "execute_result"
    }
   ],
   "source": [
    "df_fake=df[df['news_type']=='Fake']\n",
    "import nltk\n",
    "nltk.download('punkt')"
   ]
  },
  {
   "cell_type": "code",
   "execution_count": 37,
   "metadata": {
    "colab": {
     "base_uri": "https://localhost:8080/"
    },
    "id": "KMZhNGoZDdd4",
    "outputId": "ca502e25-bf05-4c5c-d881-bd8777daf08c",
    "scrolled": true
   },
   "outputs": [
    {
     "name": "stderr",
     "output_type": "stream",
     "text": [
      "[nltk_data] Downloading package stopwords to\n",
      "[nltk_data]     C:\\Users\\Rohan\\AppData\\Roaming\\nltk_data...\n",
      "[nltk_data]   Package stopwords is already up-to-date!\n"
     ]
    }
   ],
   "source": [
    "import nltk\n",
    "nltk.download('stopwords')\n",
    "cv1 = CountVectorizer(analyzer=final)\n",
    "cv1.fit(df_fake['title'])\n",
    "bow1=cv1.transform(df_fake['title'])"
   ]
  },
  {
   "cell_type": "code",
   "execution_count": 38,
   "metadata": {
    "colab": {
     "base_uri": "https://localhost:8080/"
    },
    "id": "gB0joybZDdd4",
    "outputId": "d3882227-fa7c-45e0-dba5-c3a3513c131a"
   },
   "outputs": [
    {
     "data": {
      "text/plain": [
       "(91, 459)"
      ]
     },
     "execution_count": 38,
     "metadata": {},
     "output_type": "execute_result"
    }
   ],
   "source": [
    "pd.DataFrame(bow1.todense()).shape"
   ]
  },
  {
   "cell_type": "code",
   "execution_count": 39,
   "metadata": {
    "colab": {
     "base_uri": "https://localhost:8080/"
    },
    "id": "ZJWAG57BDdd4",
    "outputId": "f3cf8f55-772c-4675-fb54-67746d525a17"
   },
   "outputs": [
    {
     "name": "stderr",
     "output_type": "stream",
     "text": [
      "C:\\Users\\Rohan\\anaconda3\\lib\\site-packages\\sklearn\\utils\\deprecation.py:87: FutureWarning: Function get_feature_names is deprecated; get_feature_names is deprecated in 1.0 and will be removed in 1.2. Please use get_feature_names_out instead.\n",
      "  warnings.warn(msg, category=FutureWarning)\n"
     ]
    }
   ],
   "source": [
    "new1=[]\n",
    "for x in range(0,459):\n",
    "    new1.append(cv1.get_feature_names()[x])"
   ]
  },
  {
   "cell_type": "code",
   "execution_count": 40,
   "metadata": {
    "id": "1Dlv12fFDdd5"
   },
   "outputs": [],
   "source": [
    "matrix1=pd.DataFrame(bow1.todense(),columns=new1)"
   ]
  },
  {
   "cell_type": "code",
   "execution_count": 41,
   "metadata": {
    "id": "rAS_uYQPDdd5"
   },
   "outputs": [],
   "source": [
    "sm1=[]\n",
    "for x in new1:\n",
    "    sm1.append(matrix1[x].sum())"
   ]
  },
  {
   "cell_type": "code",
   "execution_count": 42,
   "metadata": {
    "id": "z1Y48cbYDdd6"
   },
   "outputs": [],
   "source": [
    "trans1=matrix1.transpose()"
   ]
  },
  {
   "cell_type": "code",
   "execution_count": 43,
   "metadata": {
    "id": "GWiYvSvVDdd6"
   },
   "outputs": [],
   "source": [
    "trans1['sum']=sm1"
   ]
  },
  {
   "cell_type": "code",
   "execution_count": 44,
   "metadata": {
    "id": "i8alSvaYDdd6"
   },
   "outputs": [],
   "source": [
    "top1=trans1.sort_values(by='sum', ascending=False).head(20)"
   ]
  },
  {
   "cell_type": "markdown",
   "metadata": {
    "id": "xZvD4NLUDdd6"
   },
   "source": [
    "##### Real News"
   ]
  },
  {
   "cell_type": "code",
   "execution_count": 45,
   "metadata": {
    "id": "5z4FeHegDdd6"
   },
   "outputs": [],
   "source": [
    "df_real=df[df['news_type']=='Real']"
   ]
  },
  {
   "cell_type": "code",
   "execution_count": 46,
   "metadata": {
    "id": "hnMb0NxpDdd7",
    "scrolled": true
   },
   "outputs": [],
   "source": [
    "cv2 = CountVectorizer(analyzer=final)\n",
    "cv2.fit(df_real['title'])\n",
    "bow2=cv2.transform(df_real['title'])"
   ]
  },
  {
   "cell_type": "code",
   "execution_count": 47,
   "metadata": {
    "colab": {
     "base_uri": "https://localhost:8080/"
    },
    "id": "geC3bmI1Ddd7",
    "outputId": "96b8bfa9-b158-41c1-9b02-b24f6d541853"
   },
   "outputs": [
    {
     "data": {
      "text/plain": [
       "(91, 436)"
      ]
     },
     "execution_count": 47,
     "metadata": {},
     "output_type": "execute_result"
    }
   ],
   "source": [
    "pd.DataFrame(bow2.todense()).shape"
   ]
  },
  {
   "cell_type": "code",
   "execution_count": 48,
   "metadata": {
    "colab": {
     "base_uri": "https://localhost:8080/"
    },
    "id": "KMWidX4UDdd7",
    "outputId": "f4c8ee49-77bb-4f81-f537-13fcabf87d27"
   },
   "outputs": [
    {
     "name": "stderr",
     "output_type": "stream",
     "text": [
      "C:\\Users\\Rohan\\anaconda3\\lib\\site-packages\\sklearn\\utils\\deprecation.py:87: FutureWarning: Function get_feature_names is deprecated; get_feature_names is deprecated in 1.0 and will be removed in 1.2. Please use get_feature_names_out instead.\n",
      "  warnings.warn(msg, category=FutureWarning)\n"
     ]
    }
   ],
   "source": [
    "new2=[]\n",
    "for x in range(0,436):\n",
    "    new2.append(cv2.get_feature_names()[x])"
   ]
  },
  {
   "cell_type": "code",
   "execution_count": 49,
   "metadata": {
    "id": "jRebsqmKDdd7"
   },
   "outputs": [],
   "source": [
    "matrix2=pd.DataFrame(bow2.todense(),columns=new2)"
   ]
  },
  {
   "cell_type": "code",
   "execution_count": 50,
   "metadata": {
    "id": "AzNaTNvRDdd7"
   },
   "outputs": [],
   "source": [
    "sm2=[]\n",
    "for x in new2:\n",
    "    sm2.append(matrix2[x].sum())"
   ]
  },
  {
   "cell_type": "code",
   "execution_count": 51,
   "metadata": {
    "id": "bJFvjzyrDdd8"
   },
   "outputs": [],
   "source": [
    "trans2=matrix2.transpose()"
   ]
  },
  {
   "cell_type": "code",
   "execution_count": 52,
   "metadata": {
    "id": "cl02jequDdd8"
   },
   "outputs": [],
   "source": [
    "trans2['sum']=sm2"
   ]
  },
  {
   "cell_type": "code",
   "execution_count": 53,
   "metadata": {
    "id": "oGRtqhj3Ddd8"
   },
   "outputs": [],
   "source": [
    "top2=trans2.sort_values(by='sum', ascending=False).head(20)"
   ]
  },
  {
   "cell_type": "markdown",
   "metadata": {
    "id": "50bocxu9Ddd8"
   },
   "source": [
    "##### Concatenation"
   ]
  },
  {
   "cell_type": "code",
   "execution_count": 54,
   "metadata": {
    "id": "hCSAvkjmDdd8"
   },
   "outputs": [],
   "source": [
    "top1.drop(list(range(0,91)),axis=1,inplace=True)"
   ]
  },
  {
   "cell_type": "code",
   "execution_count": 55,
   "metadata": {
    "id": "vdmHX705Ddd8"
   },
   "outputs": [],
   "source": [
    "top1['type']=['Fake']*20"
   ]
  },
  {
   "cell_type": "code",
   "execution_count": 56,
   "metadata": {
    "id": "0wEVLiE8Ddd9"
   },
   "outputs": [],
   "source": [
    "top2.drop(list(range(0,91)),axis=1,inplace=True)"
   ]
  },
  {
   "cell_type": "code",
   "execution_count": 57,
   "metadata": {
    "id": "wl2mshUADdd9"
   },
   "outputs": [],
   "source": [
    "top2['type']=['Real']*20"
   ]
  },
  {
   "cell_type": "code",
   "execution_count": 58,
   "metadata": {
    "id": "d7KzQ-3uDdd9"
   },
   "outputs": [],
   "source": [
    "conc1=pd.concat([top1,top2])"
   ]
  },
  {
   "cell_type": "code",
   "execution_count": 59,
   "metadata": {
    "colab": {
     "base_uri": "https://localhost:8080/",
     "height": 632
    },
    "id": "RAr3V9xFDdd9",
    "outputId": "869186d5-96bd-4c90-99c4-42d999a47e5d"
   },
   "outputs": [
    {
     "data": {
      "image/png": "[encoded data removed]",
      "text/plain": [
       "<Figure size 864x720 with 1 Axes>"
      ]
     },
     "metadata": {
      "needs_background": "light"
     },
     "output_type": "display_data"
    }
   ],
   "source": [
    "plt.figure(figsize=(12,10))\n",
    "sns.barplot(y=conc1.index,x='sum',data=conc1,hue='type',palette='viridis')\n",
    "plt.xticks(rotation=90)\n",
    "plt.xlabel('Term Frequency of Words',fontsize=12)\n",
    "plt.ylabel('Top Words in Titles',fontsize=12)\n",
    "plt.legend(title='News Type',fontsize=12)\n",
    "plt.title('Frequency of Words in the Title of News',fontsize=20)\n",
    "plt.show()"
   ]
  },
  {
   "cell_type": "markdown",
   "metadata": {
    "id": "G3KzuMEWDdd9"
   },
   "source": [
    "The term frequency plot shows that some words like hillari, clinton, freedom and obama are representative of the title of fake news whereas words like trump, clinton, donald and debat are representative of the title of real news."
   ]
  },
  {
   "cell_type": "markdown",
   "metadata": {
    "id": "EnAoiGJUDdd-"
   },
   "source": [
    "#### Analysis of News Body"
   ]
  },
  {
   "cell_type": "markdown",
   "metadata": {
    "id": "79DJ5E55Ddd-"
   },
   "source": [
    "After analyzing the title, we analyze the text body of the news articles. We are interested in finding top 30 representative words in the body of fake news and real news. We perform same steps by calling \"final\" function on the body of the news article, and then select the top 30 most frequent words in the news title for both categories i,e. real news and fake news. We plot the term frequency of such words in both categories i.e., real news and fake news. We plot these words to visualise the high frequency words associated with fake and real news."
   ]
  },
  {
   "cell_type": "markdown",
   "metadata": {
    "id": "yrtMgKvuDdd-"
   },
   "source": [
    "##### Fake News"
   ]
  },
  {
   "cell_type": "code",
   "execution_count": 60,
   "metadata": {
    "id": "S9hP5WzgDdd-",
    "scrolled": true
   },
   "outputs": [],
   "source": [
    "cv3 = CountVectorizer(analyzer=final)\n",
    "cv3.fit(df_fake['text'])\n",
    "bow3=cv3.transform(df_fake['text'])"
   ]
  },
  {
   "cell_type": "code",
   "execution_count": 61,
   "metadata": {
    "colab": {
     "base_uri": "https://localhost:8080/"
    },
    "id": "UFoL2HHtDdd-",
    "outputId": "f0f458b9-cf8f-4a13-862d-d0ff38af4b22"
   },
   "outputs": [
    {
     "data": {
      "text/plain": [
       "(91, 4958)"
      ]
     },
     "execution_count": 61,
     "metadata": {},
     "output_type": "execute_result"
    }
   ],
   "source": [
    "pd.DataFrame(bow3.todense()).shape"
   ]
  },
  {
   "cell_type": "code",
   "execution_count": 62,
   "metadata": {
    "colab": {
     "base_uri": "https://localhost:8080/"
    },
    "id": "2wU6Cy1cDdd-",
    "outputId": "69094927-3004-44c3-88b5-de2c55c19f57"
   },
   "outputs": [
    {
     "name": "stderr",
     "output_type": "stream",
     "text": [
      "C:\\Users\\Rohan\\anaconda3\\lib\\site-packages\\sklearn\\utils\\deprecation.py:87: FutureWarning: Function get_feature_names is deprecated; get_feature_names is deprecated in 1.0 and will be removed in 1.2. Please use get_feature_names_out instead.\n",
      "  warnings.warn(msg, category=FutureWarning)\n"
     ]
    }
   ],
   "source": [
    "new3=[]\n",
    "for x in range(0,4958):\n",
    "    new3.append(cv3.get_feature_names()[x])"
   ]
  },
  {
   "cell_type": "code",
   "execution_count": 63,
   "metadata": {
    "id": "JNifVeuzDdd_"
   },
   "outputs": [],
   "source": [
    "matrix3=pd.DataFrame(bow3.todense(),columns=new3)"
   ]
  },
  {
   "cell_type": "code",
   "execution_count": 64,
   "metadata": {
    "id": "UzoMcEFlDdd_"
   },
   "outputs": [],
   "source": [
    "sm3=[]\n",
    "for x in new3:\n",
    "    sm3.append(matrix3[x].sum())"
   ]
  },
  {
   "cell_type": "code",
   "execution_count": 65,
   "metadata": {
    "id": "RyiRpEJvDdd_"
   },
   "outputs": [],
   "source": [
    "trans3=matrix3.transpose()"
   ]
  },
  {
   "cell_type": "code",
   "execution_count": 66,
   "metadata": {
    "id": "U9XIKvEyDdd_"
   },
   "outputs": [],
   "source": [
    "trans3['sum']=sm3"
   ]
  },
  {
   "cell_type": "code",
   "execution_count": 67,
   "metadata": {
    "id": "Un16a25WDdd_"
   },
   "outputs": [],
   "source": [
    "top3=trans3.sort_values(by='sum', ascending=False).head(30)"
   ]
  },
  {
   "cell_type": "markdown",
   "metadata": {
    "id": "-LgydgpuDdeA"
   },
   "source": [
    "##### Real News"
   ]
  },
  {
   "cell_type": "code",
   "execution_count": 68,
   "metadata": {
    "id": "U3BJQvqMDdeA",
    "scrolled": true
   },
   "outputs": [],
   "source": [
    "cv4 = CountVectorizer(analyzer=final)\n",
    "cv4.fit(df_real['text'])\n",
    "bow4=cv4.transform(df_real['text'])"
   ]
  },
  {
   "cell_type": "code",
   "execution_count": 69,
   "metadata": {
    "colab": {
     "base_uri": "https://localhost:8080/"
    },
    "id": "HRt_LDOhDdeA",
    "outputId": "69a2a731-6f8d-48ba-b832-bb170ff75fd9"
   },
   "outputs": [
    {
     "data": {
      "text/plain": [
       "(91, 6529)"
      ]
     },
     "execution_count": 69,
     "metadata": {},
     "output_type": "execute_result"
    }
   ],
   "source": [
    "pd.DataFrame(bow4.todense()).shape"
   ]
  },
  {
   "cell_type": "code",
   "execution_count": 70,
   "metadata": {
    "colab": {
     "base_uri": "https://localhost:8080/"
    },
    "id": "xGX5uuBEDdeA",
    "outputId": "bd7302a8-312e-4e52-9100-8f017ab86360"
   },
   "outputs": [
    {
     "name": "stderr",
     "output_type": "stream",
     "text": [
      "C:\\Users\\Rohan\\anaconda3\\lib\\site-packages\\sklearn\\utils\\deprecation.py:87: FutureWarning: Function get_feature_names is deprecated; get_feature_names is deprecated in 1.0 and will be removed in 1.2. Please use get_feature_names_out instead.\n",
      "  warnings.warn(msg, category=FutureWarning)\n"
     ]
    }
   ],
   "source": [
    "new4=[]\n",
    "for x in range(0,6529):\n",
    "    new4.append(cv4.get_feature_names()[x])"
   ]
  },
  {
   "cell_type": "code",
   "execution_count": 71,
   "metadata": {
    "id": "1RqS7RTEDdeB"
   },
   "outputs": [],
   "source": [
    "matrix4=pd.DataFrame(bow4.todense(),columns=new4)"
   ]
  },
  {
   "cell_type": "code",
   "execution_count": 72,
   "metadata": {
    "id": "ZydGK8mQDdeB"
   },
   "outputs": [],
   "source": [
    "sm4=[]\n",
    "for x in new4:\n",
    "    sm4.append(matrix4[x].sum())"
   ]
  },
  {
   "cell_type": "code",
   "execution_count": 73,
   "metadata": {
    "id": "pnBkVlrkDdeI"
   },
   "outputs": [],
   "source": [
    "trans4=matrix4.transpose()"
   ]
  },
  {
   "cell_type": "code",
   "execution_count": 74,
   "metadata": {
    "id": "O-c39875DdeI"
   },
   "outputs": [],
   "source": [
    "trans4['sum']=sm4"
   ]
  },
  {
   "cell_type": "code",
   "execution_count": 75,
   "metadata": {
    "id": "P5YKBuBIDdeI"
   },
   "outputs": [],
   "source": [
    "top4=trans4.sort_values(by='sum', ascending=False).head(30)"
   ]
  },
  {
   "cell_type": "markdown",
   "metadata": {
    "id": "h3ssC8BNDdeJ"
   },
   "source": [
    "##### Concatenation"
   ]
  },
  {
   "cell_type": "code",
   "execution_count": 72,
   "metadata": {
    "id": "gzpkLO_ODdeJ"
   },
   "outputs": [],
   "source": [
    "top3.drop(list(range(0,91)),axis=1,inplace=True)"
   ]
  },
  {
   "cell_type": "code",
   "execution_count": 73,
   "metadata": {
    "id": "zRfQE3K_DdeK"
   },
   "outputs": [],
   "source": [
    "top3['type']=['Fake']*30"
   ]
  },
  {
   "cell_type": "code",
   "execution_count": 74,
   "metadata": {
    "id": "3VglXGdsDdeK"
   },
   "outputs": [],
   "source": [
    "top4.drop(list(range(0,91)),axis=1,inplace=True)"
   ]
  },
  {
   "cell_type": "code",
   "execution_count": 75,
   "metadata": {
    "id": "mNXtNEC1DdeK"
   },
   "outputs": [],
   "source": [
    "top4['type']=['Real']*30"
   ]
  },
  {
   "cell_type": "code",
   "execution_count": 76,
   "metadata": {
    "id": "wg60CdnODdeL"
   },
   "outputs": [],
   "source": [
    "conc2=pd.concat([top3,top4])"
   ]
  },
  {
   "cell_type": "code",
   "execution_count": 77,
   "metadata": {
    "colab": {
     "base_uri": "https://localhost:8080/",
     "height": 638
    },
    "id": "sHrp4QkRDdeM",
    "outputId": "db85eb1f-b21c-4479-8662-b047bfa8464d"
   },
   "outputs": [
    {
     "data": {
      "image/png": "[encoded data removed]",
      "text/plain": [
       "<Figure size 864x720 with 1 Axes>"
      ]
     },
     "metadata": {
      "needs_background": "light"
     },
     "output_type": "display_data"
    }
   ],
   "source": [
    "plt.figure(figsize=(12,10))\n",
    "sns.barplot(y=conc2.index,x='sum',data=conc2,hue='type',palette='viridis')\n",
    "plt.xticks(rotation=90)\n",
    "plt.xlabel('Term Frequency of Words',fontsize=12)\n",
    "plt.ylabel('Top Words in Texts',fontsize=12)\n",
    "plt.legend(title='News Type',fontsize=12,loc='lower right')\n",
    "plt.title('Frequency of Words in the Text of News',fontsize=20)\n",
    "plt.show()"
   ]
  },
  {
   "cell_type": "markdown",
   "metadata": {
    "id": "bd4G22MhDdeN"
   },
   "source": [
    "From the above plot, we notice that words like trump and clinton are the most frequent words in the news body.\n",
    "The term frequency plot shows that some words like clinton, hillari and trump are representative of fake news whereas words like trump, said, clinton are representative of real news."
   ]
  },
  {
   "cell_type": "markdown",
   "metadata": {
    "id": "zZfuN2k8DdeN"
   },
   "source": [
    "#### Analysis of Title Length"
   ]
  },
  {
   "cell_type": "markdown",
   "metadata": {
    "id": "J3_sfVTPDdeN"
   },
   "source": [
    "After the analysis on the words in the title and body of news, we want to know that whether the title length is also a discriminatory feature/factor between fake and real news category."
   ]
  },
  {
   "cell_type": "code",
   "execution_count": 78,
   "metadata": {
    "id": "0q0WX5fTDdeN"
   },
   "outputs": [],
   "source": [
    "df['title_length']=df['title'].apply(lambda x: len(x))"
   ]
  },
  {
   "cell_type": "code",
   "execution_count": 79,
   "metadata": {
    "colab": {
     "base_uri": "https://localhost:8080/",
     "height": 409
    },
    "id": "zyfYPDypDdeO",
    "outputId": "30eb8048-59f4-490c-b37c-41573c77bec5"
   },
   "outputs": [
    {
     "data": {
      "image/png": "[encoded data removed]",
      "text/plain": [
       "<Figure size 720x432 with 1 Axes>"
      ]
     },
     "metadata": {
      "needs_background": "light"
     },
     "output_type": "display_data"
    }
   ],
   "source": [
    "plt.figure(figsize=(10,6))\n",
    "sns.kdeplot(df[df['news_type']=='Real']['title_length'])\n",
    "sns.kdeplot(df[df['news_type']=='Fake']['title_length'])\n",
    "plt.xlabel('Title Length',fontsize=12)\n",
    "plt.ylabel('Density',fontsize=12)\n",
    "plt.legend(title='News Type',fontsize=10,labels=['Real','Fake'])\n",
    "plt.title('Distribuiton of Title Length for Real and Fake News',fontsize=15)\n",
    "plt.show()"
   ]
  },
  {
   "cell_type": "markdown",
   "metadata": {
    "id": "nEuL7cr7DdeO"
   },
   "source": [
    "The title length of fake news is slighly larger than the real news. Real news title length distribution is centered with the maximum density at the length of 60, while the center of distribution of title length for fake news is slightly skewed  with the maximum density at the length of 80."
   ]
  },
  {
   "cell_type": "markdown",
   "metadata": {
    "id": "iqSNh8c1DdeO"
   },
   "source": [
    "In this part, we build the classifiers that classfies the news as Real or Fake as follows:\n",
    "\n",
    "- The outcome variable is the news category and the features are combined terms used in the title and body of the news article."
   ]
  },
  {
   "cell_type": "markdown",
   "metadata": {
    "id": "0f0uUCzNDdfG"
   },
   "source": [
    "### Fake/Real News Detection Based on Both Body and Title of News "
   ]
  },
  {
   "cell_type": "markdown",
   "metadata": {
    "id": "vd0PKj_GDdfH"
   },
   "source": [
    "#### Splitting Data into Train and Test Datasets "
   ]
  },
  {
   "cell_type": "code",
   "execution_count": 80,
   "metadata": {
    "id": "i3wvxnqdDdfH"
   },
   "outputs": [],
   "source": [
    "df['title_text']=df['title']+': ' +df['text']"
   ]
  },
  {
   "cell_type": "code",
   "execution_count": 81,
   "metadata": {
    "id": "I87cDQJADdfH"
   },
   "outputs": [],
   "source": [
    "X3=df['title_text']\n",
    "y3=df['news_type']"
   ]
  },
  {
   "cell_type": "code",
   "execution_count": 82,
   "metadata": {
    "id": "rjRVWhk2DdfI"
   },
   "outputs": [],
   "source": [
    "X3_train, X3_test, y3_train, y3_test = train_test_split(X3, y3, test_size=0.3, random_state=42)"
   ]
  },
  {
   "cell_type": "markdown",
   "metadata": {
    "id": "g_qqfgbcDdfI"
   },
   "source": [
    "#### Random Forest Classifier with Text Preprocessing"
   ]
  },
  {
   "cell_type": "code",
   "execution_count": 83,
   "metadata": {
    "id": "doLQPgISDdfI"
   },
   "outputs": [],
   "source": [
    "pp=Pipeline([\n",
    "    ('bow',CountVectorizer(analyzer=final)),\n",
    "    ('tfidf',TfidfTransformer()),\n",
    "    ('classifier',RandomForestClassifier())\n",
    "    ])"
   ]
  },
  {
   "cell_type": "code",
   "execution_count": 84,
   "metadata": {
    "colab": {
     "base_uri": "https://localhost:8080/"
    },
    "id": "cxQUlSPsDdfI",
    "outputId": "fe7bd7fd-9bd5-48a2-b019-857d0a671c28"
   },
   "outputs": [
    {
     "name": "stderr",
     "output_type": "stream",
     "text": [
      "C:\\Users\\Tushar Aggarwal\\Anaconda3\\lib\\site-packages\\sklearn\\ensemble\\forest.py:245: FutureWarning: The default value of n_estimators will change from 10 in version 0.20 to 100 in 0.22.\n",
      "  \"10 in version 0.20 to 100 in 0.22.\", FutureWarning)\n"
     ]
    },
    {
     "data": {
      "text/plain": [
       "Pipeline(memory=None,\n",
       "         steps=[('bow',\n",
       "                 CountVectorizer(analyzer=<function compose.<locals>.<lambda> at 0x0000019DF18B45E8>,\n",
       "                                 binary=False, decode_error='strict',\n",
       "                                 dtype=<class 'numpy.int64'>, encoding='utf-8',\n",
       "                                 input='content', lowercase=True, max_df=1.0,\n",
       "                                 max_features=None, min_df=1,\n",
       "                                 ngram_range=(1, 1), preprocessor=None,\n",
       "                                 stop_words=None, strip_accents=None,\n",
       "                                 token_pattern='...\n",
       "                 RandomForestClassifier(bootstrap=True, class_weight=None,\n",
       "                                        criterion='gini', max_depth=None,\n",
       "                                        max_features='auto',\n",
       "                                        max_leaf_nodes=None,\n",
       "                                        min_impurity_decrease=0.0,\n",
       "                                        min_impurity_split=None,\n",
       "                                        min_samples_leaf=1, min_samples_split=2,\n",
       "                                        min_weight_fraction_leaf=0.0,\n",
       "                                        n_estimators=10, n_jobs=None,\n",
       "                                        oob_score=False, random_state=None,\n",
       "                                        verbose=0, warm_start=False))],\n",
       "         verbose=False)"
      ]
     },
     "execution_count": 84,
     "metadata": {},
     "output_type": "execute_result"
    }
   ],
   "source": [
    "pp.fit(X3_train,y3_train)"
   ]
  },
  {
   "cell_type": "code",
   "execution_count": 85,
   "metadata": {
    "id": "KAcac9xwDdfJ"
   },
   "outputs": [],
   "source": [
    "predictions13=pp.predict(X3_test)"
   ]
  },
  {
   "cell_type": "code",
   "execution_count": 86,
   "metadata": {
    "colab": {
     "base_uri": "https://localhost:8080/"
    },
    "id": "DrUqj8VADdfJ",
    "outputId": "f09f09dc-1333-4a25-82fc-7f6c49fe219c"
   },
   "outputs": [
    {
     "name": "stdout",
     "output_type": "stream",
     "text": [
      "[[17  9]\n",
      " [ 9 20]]\n",
      "\n",
      "\n",
      "              precision    recall  f1-score   support\n",
      "\n",
      "        Fake       0.65      0.65      0.65        26\n",
      "        Real       0.69      0.69      0.69        29\n",
      "\n",
      "    accuracy                           0.67        55\n",
      "   macro avg       0.67      0.67      0.67        55\n",
      "weighted avg       0.67      0.67      0.67        55\n",
      "\n"
     ]
    }
   ],
   "source": [
    "print(confusion_matrix(y3_test, predictions13))\n",
    "print('\\n')\n",
    "print(classification_report(y3_test, predictions13))"
   ]
  },
  {
   "cell_type": "markdown",
   "metadata": {
    "id": "mCkJCwhVDdfJ"
   },
   "source": [
    "The accuracy of Random Forest Classifier on the mixture of title and body is 75%. To improve accuracy, we train this model on the mixture of title and body without preprocessing."
   ]
  },
  {
   "cell_type": "markdown",
   "metadata": {
    "id": "VVF85qwtDdfJ"
   },
   "source": [
    "#### Random Forest Classifier without Text Preprocessing"
   ]
  },
  {
   "cell_type": "code",
   "execution_count": 87,
   "metadata": {
    "id": "JoDV1XyqDdfK"
   },
   "outputs": [],
   "source": [
    "pp=Pipeline([\n",
    "    ('bow',CountVectorizer()),\n",
    "    ('tfidf',TfidfTransformer()),\n",
    "    ('classifier',RandomForestClassifier())\n",
    "    ])"
   ]
  },
  {
   "cell_type": "code",
   "execution_count": 88,
   "metadata": {
    "colab": {
     "base_uri": "https://localhost:8080/"
    },
    "id": "bbsYPWArDdfK",
    "outputId": "b60ca340-5804-46a4-e61a-9c91cfe3b600"
   },
   "outputs": [
    {
     "name": "stderr",
     "output_type": "stream",
     "text": [
      "C:\\Users\\Tushar Aggarwal\\Anaconda3\\lib\\site-packages\\sklearn\\ensemble\\forest.py:245: FutureWarning: The default value of n_estimators will change from 10 in version 0.20 to 100 in 0.22.\n",
      "  \"10 in version 0.20 to 100 in 0.22.\", FutureWarning)\n"
     ]
    },
    {
     "data": {
      "text/plain": [
       "Pipeline(memory=None,\n",
       "         steps=[('bow',\n",
       "                 CountVectorizer(analyzer='word', binary=False,\n",
       "                                 decode_error='strict',\n",
       "                                 dtype=<class 'numpy.int64'>, encoding='utf-8',\n",
       "                                 input='content', lowercase=True, max_df=1.0,\n",
       "                                 max_features=None, min_df=1,\n",
       "                                 ngram_range=(1, 1), preprocessor=None,\n",
       "                                 stop_words=None, strip_accents=None,\n",
       "                                 token_pattern='(?u)\\\\b\\\\w\\\\w+\\\\b',\n",
       "                                 tokenizer=None, vocabulary=None...\n",
       "                 RandomForestClassifier(bootstrap=True, class_weight=None,\n",
       "                                        criterion='gini', max_depth=None,\n",
       "                                        max_features='auto',\n",
       "                                        max_leaf_nodes=None,\n",
       "                                        min_impurity_decrease=0.0,\n",
       "                                        min_impurity_split=None,\n",
       "                                        min_samples_leaf=1, min_samples_split=2,\n",
       "                                        min_weight_fraction_leaf=0.0,\n",
       "                                        n_estimators=10, n_jobs=None,\n",
       "                                        oob_score=False, random_state=None,\n",
       "                                        verbose=0, warm_start=False))],\n",
       "         verbose=False)"
      ]
     },
     "execution_count": 88,
     "metadata": {},
     "output_type": "execute_result"
    }
   ],
   "source": [
    "pp.fit(X3_train,y3_train)"
   ]
  },
  {
   "cell_type": "code",
   "execution_count": 89,
   "metadata": {
    "id": "0BYtKDi7DdfK"
   },
   "outputs": [],
   "source": [
    "predictions14=pp.predict(X3_test)"
   ]
  },
  {
   "cell_type": "code",
   "execution_count": 90,
   "metadata": {
    "colab": {
     "base_uri": "https://localhost:8080/"
    },
    "id": "A0hxiQk7DdfK",
    "outputId": "201bd38e-61fb-42d4-81c1-9a980c777117"
   },
   "outputs": [
    {
     "name": "stdout",
     "output_type": "stream",
     "text": [
      "[[17  9]\n",
      " [16 13]]\n",
      "\n",
      "\n",
      "              precision    recall  f1-score   support\n",
      "\n",
      "        Fake       0.52      0.65      0.58        26\n",
      "        Real       0.59      0.45      0.51        29\n",
      "\n",
      "    accuracy                           0.55        55\n",
      "   macro avg       0.55      0.55      0.54        55\n",
      "weighted avg       0.56      0.55      0.54        55\n",
      "\n"
     ]
    }
   ],
   "source": [
    "print(confusion_matrix(y3_test, predictions14))\n",
    "print('\\n')\n",
    "print(classification_report(y3_test, predictions14))"
   ]
  },
  {
   "cell_type": "markdown",
   "metadata": {
    "id": "DrhqJts9DdfL"
   },
   "source": [
    "The accuracy of Random Forest Classifier on the mixture of title and body without preprocessing is 75%. To improve accuracy, we train another model."
   ]
  },
  {
   "cell_type": "markdown",
   "metadata": {
    "id": "A1hG1zSHDdfL"
   },
   "source": [
    "#### Naive Bayes Classifier with Text Preprocessing"
   ]
  },
  {
   "cell_type": "code",
   "execution_count": 91,
   "metadata": {
    "id": "DjA4KjoYDdfL"
   },
   "outputs": [],
   "source": [
    "pp=Pipeline([\n",
    "    ('bow',CountVectorizer(analyzer=final)),\n",
    "    ('tfidf',TfidfTransformer()),\n",
    "    ('classifier',MultinomialNB())\n",
    "    ])"
   ]
  },
  {
   "cell_type": "code",
   "execution_count": 92,
   "metadata": {
    "colab": {
     "base_uri": "https://localhost:8080/"
    },
    "id": "-cOY22jWDdfM",
    "outputId": "1c4363cf-2d98-472b-aae5-54d674145d5f"
   },
   "outputs": [
    {
     "data": {
      "text/plain": [
       "Pipeline(memory=None,\n",
       "         steps=[('bow',\n",
       "                 CountVectorizer(analyzer=<function compose.<locals>.<lambda> at 0x0000019DF18B45E8>,\n",
       "                                 binary=False, decode_error='strict',\n",
       "                                 dtype=<class 'numpy.int64'>, encoding='utf-8',\n",
       "                                 input='content', lowercase=True, max_df=1.0,\n",
       "                                 max_features=None, min_df=1,\n",
       "                                 ngram_range=(1, 1), preprocessor=None,\n",
       "                                 stop_words=None, strip_accents=None,\n",
       "                                 token_pattern='(?u)\\\\b\\\\w\\\\w+\\\\b',\n",
       "                                 tokenizer=None, vocabulary=None)),\n",
       "                ('tfidf',\n",
       "                 TfidfTransformer(norm='l2', smooth_idf=True,\n",
       "                                  sublinear_tf=False, use_idf=True)),\n",
       "                ('classifier',\n",
       "                 MultinomialNB(alpha=1.0, class_prior=None, fit_prior=True))],\n",
       "         verbose=False)"
      ]
     },
     "execution_count": 92,
     "metadata": {},
     "output_type": "execute_result"
    }
   ],
   "source": [
    "pp.fit(X3_train,y3_train)"
   ]
  },
  {
   "cell_type": "code",
   "execution_count": 93,
   "metadata": {
    "id": "NOe6CqGjDdfN"
   },
   "outputs": [],
   "source": [
    "predictions15=pp.predict(X3_test)"
   ]
  },
  {
   "cell_type": "code",
   "execution_count": 94,
   "metadata": {
    "colab": {
     "base_uri": "https://localhost:8080/"
    },
    "id": "MdgTE900DdfN",
    "outputId": "7918a26b-0c79-46e9-fa15-0b70db505f76"
   },
   "outputs": [
    {
     "name": "stdout",
     "output_type": "stream",
     "text": [
      "[[22  4]\n",
      " [15 14]]\n",
      "\n",
      "\n",
      "              precision    recall  f1-score   support\n",
      "\n",
      "        Fake       0.59      0.85      0.70        26\n",
      "        Real       0.78      0.48      0.60        29\n",
      "\n",
      "    accuracy                           0.65        55\n",
      "   macro avg       0.69      0.66      0.65        55\n",
      "weighted avg       0.69      0.65      0.64        55\n",
      "\n"
     ]
    }
   ],
   "source": [
    "print(confusion_matrix(y3_test, predictions15))\n",
    "print('\\n')\n",
    "print(classification_report(y3_test, predictions15))"
   ]
  },
  {
   "cell_type": "markdown",
   "metadata": {
    "id": "wX8UoafqDdfN"
   },
   "source": [
    "The accuracy of Naive Bayes classifier on the mixture of title and body is 65%. To improve accuracy, we train this model on the mixture of title and body without preprocessing."
   ]
  },
  {
   "cell_type": "markdown",
   "metadata": {
    "id": "qWbsJUyMDdfO"
   },
   "source": [
    "#### Naive Bayes Classifier without Text Preprocessing"
   ]
  },
  {
   "cell_type": "code",
   "execution_count": 95,
   "metadata": {
    "id": "56mLrCxSDdfO"
   },
   "outputs": [],
   "source": [
    "pp=Pipeline([\n",
    "    ('bow',CountVectorizer()),\n",
    "    ('tfidf',TfidfTransformer()),\n",
    "    ('classifier',MultinomialNB())\n",
    "    ])"
   ]
  },
  {
   "cell_type": "code",
   "execution_count": 96,
   "metadata": {
    "colab": {
     "base_uri": "https://localhost:8080/"
    },
    "id": "CZUqfUsWDdfO",
    "outputId": "3e3f380a-2794-4caf-954c-b03dd62b7ca7"
   },
   "outputs": [
    {
     "data": {
      "text/plain": [
       "Pipeline(memory=None,\n",
       "         steps=[('bow',\n",
       "                 CountVectorizer(analyzer='word', binary=False,\n",
       "                                 decode_error='strict',\n",
       "                                 dtype=<class 'numpy.int64'>, encoding='utf-8',\n",
       "                                 input='content', lowercase=True, max_df=1.0,\n",
       "                                 max_features=None, min_df=1,\n",
       "                                 ngram_range=(1, 1), preprocessor=None,\n",
       "                                 stop_words=None, strip_accents=None,\n",
       "                                 token_pattern='(?u)\\\\b\\\\w\\\\w+\\\\b',\n",
       "                                 tokenizer=None, vocabulary=None)),\n",
       "                ('tfidf',\n",
       "                 TfidfTransformer(norm='l2', smooth_idf=True,\n",
       "                                  sublinear_tf=False, use_idf=True)),\n",
       "                ('classifier',\n",
       "                 MultinomialNB(alpha=1.0, class_prior=None, fit_prior=True))],\n",
       "         verbose=False)"
      ]
     },
     "execution_count": 96,
     "metadata": {},
     "output_type": "execute_result"
    }
   ],
   "source": [
    "pp.fit(X3_train,y3_train)"
   ]
  },
  {
   "cell_type": "code",
   "execution_count": 97,
   "metadata": {
    "id": "_4DRMFkmDdfP"
   },
   "outputs": [],
   "source": [
    "predictions16=pp.predict(X3_test)"
   ]
  },
  {
   "cell_type": "code",
   "execution_count": 98,
   "metadata": {
    "colab": {
     "base_uri": "https://localhost:8080/"
    },
    "id": "r6oj4e58DdfP",
    "outputId": "18a499a7-dfad-4032-b097-291867ec1184"
   },
   "outputs": [
    {
     "name": "stdout",
     "output_type": "stream",
     "text": [
      "[[25  1]\n",
      " [19 10]]\n",
      "\n",
      "\n",
      "              precision    recall  f1-score   support\n",
      "\n",
      "        Fake       0.57      0.96      0.71        26\n",
      "        Real       0.91      0.34      0.50        29\n",
      "\n",
      "    accuracy                           0.64        55\n",
      "   macro avg       0.74      0.65      0.61        55\n",
      "weighted avg       0.75      0.64      0.60        55\n",
      "\n"
     ]
    }
   ],
   "source": [
    "print(confusion_matrix(y3_test, predictions16))\n",
    "print('\\n')\n",
    "print(classification_report(y3_test, predictions16))"
   ]
  },
  {
   "cell_type": "markdown",
   "metadata": {
    "id": "am65usTZDdfP"
   },
   "source": [
    "The accuracy of Naive Bayes Classifier is reduced to 64% on the mixture of title and body without preprocessing.To improve accuracy, we train another model."
   ]
  },
  {
   "cell_type": "markdown",
   "metadata": {
    "id": "OsGkPPPKDdfQ"
   },
   "source": [
    "#### Passive Aggressive Classifier withText Preprocessing"
   ]
  },
  {
   "cell_type": "code",
   "execution_count": 99,
   "metadata": {
    "id": "L23YvYtxDdfQ"
   },
   "outputs": [],
   "source": [
    "pp=Pipeline([\n",
    "    ('bow',CountVectorizer(analyzer=final)),\n",
    "    ('tfidf',TfidfTransformer()),\n",
    "    ('classifier',PassiveAggressiveClassifier())\n",
    "    ])"
   ]
  },
  {
   "cell_type": "code",
   "execution_count": 100,
   "metadata": {
    "colab": {
     "base_uri": "https://localhost:8080/"
    },
    "id": "ovysZXvNDdfQ",
    "outputId": "4ff53700-a746-40ed-f607-0e6e54d4be69"
   },
   "outputs": [
    {
     "data": {
      "text/plain": [
       "Pipeline(memory=None,\n",
       "         steps=[('bow',\n",
       "                 CountVectorizer(analyzer=<function compose.<locals>.<lambda> at 0x0000019DF18B45E8>,\n",
       "                                 binary=False, decode_error='strict',\n",
       "                                 dtype=<class 'numpy.int64'>, encoding='utf-8',\n",
       "                                 input='content', lowercase=True, max_df=1.0,\n",
       "                                 max_features=None, min_df=1,\n",
       "                                 ngram_range=(1, 1), preprocessor=None,\n",
       "                                 stop_words=None, strip_accents=None,\n",
       "                                 token_pattern='...\n",
       "                 TfidfTransformer(norm='l2', smooth_idf=True,\n",
       "                                  sublinear_tf=False, use_idf=True)),\n",
       "                ('classifier',\n",
       "                 PassiveAggressiveClassifier(C=1.0, average=False,\n",
       "                                             class_weight=None,\n",
       "                                             early_stopping=False,\n",
       "                                             fit_intercept=True, loss='hinge',\n",
       "                                             max_iter=1000, n_iter_no_change=5,\n",
       "                                             n_jobs=None, random_state=None,\n",
       "                                             shuffle=True, tol=0.001,\n",
       "                                             validation_fraction=0.1, verbose=0,\n",
       "                                             warm_start=False))],\n",
       "         verbose=False)"
      ]
     },
     "execution_count": 100,
     "metadata": {},
     "output_type": "execute_result"
    }
   ],
   "source": [
    "pp.fit(X3_train,y3_train)"
   ]
  },
  {
   "cell_type": "code",
   "execution_count": 101,
   "metadata": {
    "id": "nmEL3HM_DdfR"
   },
   "outputs": [],
   "source": [
    "predictions17=pp.predict(X3_test)"
   ]
  },
  {
   "cell_type": "code",
   "execution_count": 102,
   "metadata": {
    "colab": {
     "base_uri": "https://localhost:8080/"
    },
    "id": "e8speXa4DdfR",
    "outputId": "729579cf-60a9-4386-da18-e55e3dd083d1",
    "scrolled": true
   },
   "outputs": [
    {
     "name": "stdout",
     "output_type": "stream",
     "text": [
      "[[21  5]\n",
      " [10 19]]\n",
      "\n",
      "\n",
      "              precision    recall  f1-score   support\n",
      "\n",
      "        Fake       0.68      0.81      0.74        26\n",
      "        Real       0.79      0.66      0.72        29\n",
      "\n",
      "    accuracy                           0.73        55\n",
      "   macro avg       0.73      0.73      0.73        55\n",
      "weighted avg       0.74      0.73      0.73        55\n",
      "\n"
     ]
    }
   ],
   "source": [
    "print(confusion_matrix(y3_test, predictions17))\n",
    "print('\\n')\n",
    "print(classification_report(y3_test, predictions17))"
   ]
  },
  {
   "cell_type": "markdown",
   "metadata": {
    "id": "UP0qGbpTDdfR"
   },
   "source": [
    "The accuracy of Passive Aggressive Classifier on the mixture of title and body with preprocessing is 76%. To improve accuracy, we train this model without preprocessing."
   ]
  },
  {
   "cell_type": "markdown",
   "metadata": {
    "id": "iFP3LW-rDdfS"
   },
   "source": [
    "#### Passive Aggressive Classifier without Text Preprocessing"
   ]
  },
  {
   "cell_type": "code",
   "execution_count": 103,
   "metadata": {
    "id": "CIv-ML6MDdfS"
   },
   "outputs": [],
   "source": [
    "pp=Pipeline([\n",
    "    ('bow',CountVectorizer()),\n",
    "    ('tfidf',TfidfTransformer()),\n",
    "    ('classifier',PassiveAggressiveClassifier())\n",
    "    ])"
   ]
  },
  {
   "cell_type": "code",
   "execution_count": 104,
   "metadata": {
    "colab": {
     "base_uri": "https://localhost:8080/"
    },
    "id": "EZOUUrLdDdfS",
    "outputId": "57b65c99-23ee-42a5-84a2-a5ae991caa82"
   },
   "outputs": [
    {
     "data": {
      "text/plain": [
       "Pipeline(memory=None,\n",
       "         steps=[('bow',\n",
       "                 CountVectorizer(analyzer='word', binary=False,\n",
       "                                 decode_error='strict',\n",
       "                                 dtype=<class 'numpy.int64'>, encoding='utf-8',\n",
       "                                 input='content', lowercase=True, max_df=1.0,\n",
       "                                 max_features=None, min_df=1,\n",
       "                                 ngram_range=(1, 1), preprocessor=None,\n",
       "                                 stop_words=None, strip_accents=None,\n",
       "                                 token_pattern='(?u)\\\\b\\\\w\\\\w+\\\\b',\n",
       "                                 tokenizer=None, vocabulary=None...\n",
       "                 TfidfTransformer(norm='l2', smooth_idf=True,\n",
       "                                  sublinear_tf=False, use_idf=True)),\n",
       "                ('classifier',\n",
       "                 PassiveAggressiveClassifier(C=1.0, average=False,\n",
       "                                             class_weight=None,\n",
       "                                             early_stopping=False,\n",
       "                                             fit_intercept=True, loss='hinge',\n",
       "                                             max_iter=1000, n_iter_no_change=5,\n",
       "                                             n_jobs=None, random_state=None,\n",
       "                                             shuffle=True, tol=0.001,\n",
       "                                             validation_fraction=0.1, verbose=0,\n",
       "                                             warm_start=False))],\n",
       "         verbose=False)"
      ]
     },
     "execution_count": 104,
     "metadata": {},
     "output_type": "execute_result"
    }
   ],
   "source": [
    "pp.fit(X3_train,y3_train)"
   ]
  },
  {
   "cell_type": "code",
   "execution_count": 105,
   "metadata": {
    "id": "c2SXlUPfDdfT"
   },
   "outputs": [],
   "source": [
    "predictions18=pp.predict(X3_test)"
   ]
  },
  {
   "cell_type": "code",
   "execution_count": 106,
   "metadata": {
    "colab": {
     "base_uri": "https://localhost:8080/"
    },
    "id": "DTNLi-WTDdfV",
    "outputId": "1bd1cde4-07a0-47d6-e468-67d1dbc86e93"
   },
   "outputs": [
    {
     "name": "stdout",
     "output_type": "stream",
     "text": [
      "[[23  3]\n",
      " [ 7 22]]\n",
      "\n",
      "\n",
      "              precision    recall  f1-score   support\n",
      "\n",
      "        Fake       0.77      0.88      0.82        26\n",
      "        Real       0.88      0.76      0.81        29\n",
      "\n",
      "    accuracy                           0.82        55\n",
      "   macro avg       0.82      0.82      0.82        55\n",
      "weighted avg       0.83      0.82      0.82        55\n",
      "\n"
     ]
    }
   ],
   "source": [
    "print(confusion_matrix(y3_test, predictions18))\n",
    "print('\\n')\n",
    "print(classification_report(y3_test, predictions18))"
   ]
  },
  {
   "cell_type": "markdown",
   "metadata": {
    "id": "quOCX3p8DdfV"
   },
   "source": [
    "**The accuracy of Passive Aggressive Classifier increases to 87% on the mixture of title and body without preprocessing.**"
   ]
  },
  {
   "cell_type": "code",
   "execution_count": 107,
   "metadata": {
    "colab": {
     "base_uri": "https://localhost:8080/"
    },
    "id": "vheO3YRKDdfW",
    "outputId": "b3f0a47b-e371-4b08-b1bc-284fb32f3e90"
   },
   "outputs": [
    {
     "name": "stdout",
     "output_type": "stream",
     "text": [
      "Text&Title_Random Forest Classifier_With Text Preprocessing:  67.0\n",
      "Text&Title_Random Forest Classifier_Without Text Preprocessing:  55.0\n",
      "Text&Title_Naive Bayes Classifier_With Text Preprocessing:  65.0\n",
      "Text&Title_Naive Bayes Classifier_Without Text Preprocessing:  64.0\n",
      "Text&Title_Passive Aggressive Classifier_With Text Preprocessing:  73.0\n",
      "Text&Title_Passive Aggressive Classifier_Without Text Preprocessing:  82.0\n"
     ]
    }
   ],
   "source": [
    "print('Text&Title_Random Forest Classifier_With Text Preprocessing: ', round(100*accuracy_score(y3_test,predictions13)))\n",
    "print('Text&Title_Random Forest Classifier_Without Text Preprocessing: ', round(100*accuracy_score(y3_test,predictions14)))\n",
    "print('Text&Title_Naive Bayes Classifier_With Text Preprocessing: ', round(100*accuracy_score(y3_test,predictions15)))\n",
    "print('Text&Title_Naive Bayes Classifier_Without Text Preprocessing: ', round(100*accuracy_score(y3_test,predictions16)))\n",
    "print('Text&Title_Passive Aggressive Classifier_With Text Preprocessing: ', round(100*accuracy_score(y3_test,predictions17)))\n",
    "print('Text&Title_Passive Aggressive Classifier_Without Text Preprocessing: ', round(100*accuracy_score(y3_test,predictions18)))"
   ]
  },
  {
   "cell_type": "markdown",
   "metadata": {
    "id": "JaaZv7SQDdfa"
   },
   "source": [
    "* We observe that 87% accuracy is obtained on the test dataset for Passive Aggressive Classifier on combined (body & title) feature matrix without text preprocessing. As 84% accuracy is obtained on the test dataset for Passive Aggressive Classifier on text feature without text preprocessing, it seems that combining titles with body improves the accuracy of the model to 87%. Regarding the preprocessing, it should be mentioned that although some phrases and bigrams should be cleaned and preprocessed, removing stop words and stemming might not be a good idea in this specific dataset as we might loose some langauge information.Therefore, we conclude that Passive Aggressive model on the combined feature matrix without text preprocessing is the best classifcation model in our analysis that can categorize the real and fake news with maximum accuracy."
   ]
  },
  {
   "cell_type": "markdown",
   "metadata": {
    "id": "oGL65Jd6Ddfb"
   },
   "source": [
    "Analyzing text data is more challenging than numeric data. In this project, the following tasks were preformed:\n",
    "\n",
    "* We performed detailed exploratory data analysis on the real and fake news dataset. We generated multiple plots of all variables for both news categories.\n",
    "\n",
    "* We determined the most frequent words included in the title or body of the fake news and real news.\n",
    "\n",
    "* We trained binary classifiers that classify fake news and real news on the basis of words in the title, body, or both title and body of the news articles. We used three different classifiers including Random Forest Classifier, Naive-Bayes Classifier and passive Aggressive Classifier. Passive Aggressive was the best model for this analysis on the combined feature matrix without text preprocessing which predicted fake and reals news with 87% accuracy."
   ]
  },
  {
   "cell_type": "code",
   "execution_count": 108,
   "metadata": {
    "id": "VvX6vBM3Ddfc"
   },
   "outputs": [],
   "source": [
    "import pickle \n",
    "model_file = 'final_model.pkl'\n",
    "pickle.dump(pp ,open(model_file,'wb'))"
   ]
  },
  {
   "cell_type": "code",
   "execution_count": 109,
   "metadata": {
    "id": "EmEMnwtnDdfc"
   },
   "outputs": [
    {
     "name": "stdout",
     "output_type": "stream",
     "text": [
      "Please enter the news text you want to verify: Charity: Clinton Foundation Distributed â€œWatered-Downâ€ AIDS Drugs to Sub-Saharan Africa â€“ Eagle Rising\n",
      "The given statement is  Fake\n"
     ]
    }
   ],
   "source": [
    "\n",
    "import pickle\n",
    "var = input(\"Please enter the news text you want to verify: \")\n",
    "\n",
    "# function to run for prediction\n",
    "def detecting_fake_news(var):  \n",
    "    \n",
    "    #retrieving the best model for prediction call\n",
    "    load_model = pickle.load(open('final_model.sav', 'rb'))\n",
    "    prediction = load_model.predict([var])\n",
    "\n",
    "    return (print(\"The given statement is \",prediction[0]))\n",
    "\n",
    "if __name__ == '__main__':\n",
    "    detecting_fake_news(var)"
   ]
  },
  {
   "cell_type": "code",
   "execution_count": null,
   "metadata": {
    "id": "EbiHpaU2Ddff"
   },
   "outputs": [],
   "source": []
  }
 ],
 "metadata": {
  "accelerator": "GPU",
  "colab": {
   "collapsed_sections": [
    "VERdwP3jDddw",
    "jPYWOwddDddy",
    "lHdFIQvQDddz",
    "BLRsZ9UwDdd0",
    "D3NOdiSiDdd1",
    "RsT6sNYeDdd2"
   ],
   "name": "Fake News Classifier[bf].ipynb",
   "provenance": []
  },
  "kernelspec": {
   "display_name": "Python 3",
   "language": "python",
   "name": "python3"
  },
  "language_info": {
   "codemirror_mode": {
    "name": "ipython",
    "version": 3
   },
   "file_extension": ".py",
   "mimetype": "text/x-python",
   "name": "python",
   "nbconvert_exporter": "python",
   "pygments_lexer": "ipython3",
   "version": "3.7.6"
  }
 },
 "nbformat": 4,
 "nbformat_minor": 1
}
